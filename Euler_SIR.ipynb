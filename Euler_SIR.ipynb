{
 "cells": [
  {
   "cell_type": "code",
   "execution_count": 25,
   "metadata": {},
   "outputs": [],
   "source": [
    "import numpy as np\n",
    "import matplotlib.pyplot as plt \n",
    "import pandas as pd"
   ]
  },
  {
   "cell_type": "code",
   "execution_count": 26,
   "metadata": {},
   "outputs": [],
   "source": [
    "#initial values for S,I,R\n",
    "t=0\n",
    "S=45400#suscetible: S'=-aSI\n",
    "I=2100#infectious: I'=aSI-bI\n",
    "R=2500#recovered: R'=bI"
   ]
  },
  {
   "cell_type": "code",
   "execution_count": 27,
   "metadata": {},
   "outputs": [],
   "source": [
    "def Euler_method(t0,t1,S,I,R,a,b,n):\n",
    "    dt=(t1-t0)/n#delta t value\n",
    "    \n",
    "    t_list=[t0]\n",
    "    s_list=[S]#susceptibel ppl over time\n",
    "    i_list=[I]#infectious ppl over time\n",
    "    r_list=[R]#recovered ppl over time\n",
    "    \n",
    "    for i in range(n):\n",
    "        S_prime=-a*S*I\n",
    "        I_prime=a*S*I-b*I\n",
    "        R_prime=b*I\n",
    "    \n",
    "    #approximate the rate of chg\n",
    "        dS=S_prime*dt\n",
    "        dI=I_prime*dt\n",
    "        dR=R_prime*dt\n",
    "    \n",
    "    #update all the values\n",
    "        t0+=dt\n",
    "        S+=dS\n",
    "        I+=dI\n",
    "        R+=dR\n",
    "    \n",
    "        t_list.append(t)\n",
    "        s_list.append(S)\n",
    "        i_list.append(I)\n",
    "        r_list.append(R)\n",
    "    return s_list[-1],i_list[-1],r_list[-1]\n",
    "#     plt.plot(t_list,s_list,label=\"S\")\n",
    "#     plt.plot(t_list,i_list,label=\"I\")\n",
    "#     plt.plot(t_list,r_list,label=\"R\")\n",
    "#     plt.legend()\n"
   ]
  },
  {
   "cell_type": "code",
   "execution_count": 36,
   "metadata": {},
   "outputs": [
    {
     "data": {
      "text/plain": [
       "45433.47404752867"
      ]
     },
     "execution_count": 36,
     "metadata": {},
     "output_type": "execute_result"
    }
   ],
   "source": [
    "Euler_method(1,0,44278.66477877234,3042.9241492280125,2678.411071999648,0.00001,1/14,10)[0]"
   ]
  },
  {
   "cell_type": "markdown",
   "metadata": {},
   "source": [
    "#let us varying the stepsize"
   ]
  },
  {
   "cell_type": "code",
   "execution_count": 44,
   "metadata": {},
   "outputs": [
    {
     "name": "stdout",
     "output_type": "stream",
     "text": [
      "                 S(1)         I(1)         R(1)      new S(0)  discrepancy\n",
      "1.00000  44446.600000  2903.400000  2650.000000  45737.062584   337.062584\n",
      "0.10000  44278.664779  3042.924149  2678.411072  45433.474048    33.474048\n",
      "0.01000  44257.830083  3060.194816  2681.975101  45403.361447     3.361447\n",
      "0.00100  44255.696021  3061.963347  2682.340633  45400.336301     0.336301\n",
      "0.00010  44255.482096  3062.140625  2682.377279  45400.033632     0.033632\n",
      "0.00001  44255.460698  3062.158357  2682.380945  45400.003363     0.003363\n"
     ]
    }
   ],
   "source": [
    "t_values=[1,0.1,0.01,0.001,0.0001,0.00001]\n",
    "df=pd.DataFrame(np.zeros((6,3)),index=[1,0.1,0.01,0.001,0.0001,0.00001],columns=['S(1)','I(1)','R(1)'])   \n",
    "new_S0=[]\n",
    "for i in range(len(t_values)):\n",
    "    S1,I1,R1=Euler_method(0,1,45400,2100,2500,0.00001,1/14,int(1/t_values[i]))\n",
    "    df.iloc[i]=S1,I1,R1\n",
    "    new_S0.append(Euler_method(1,0,S1,I1,R1,0.00001,1/14,int(1/t_values[i]))[0])\n",
    "    \n",
    "df['new S(0)']=new_S0\n",
    "df['discrepancy']=df['new S(0)']-S\n",
    "print(df)"
   ]
  },
  {
   "cell_type": "code",
   "execution_count": null,
   "metadata": {},
   "outputs": [],
   "source": []
  }
 ],
 "metadata": {
  "kernelspec": {
   "display_name": "Python 3",
   "language": "python",
   "name": "python3"
  },
  "language_info": {
   "codemirror_mode": {
    "name": "ipython",
    "version": 3
   },
   "file_extension": ".py",
   "mimetype": "text/x-python",
   "name": "python",
   "nbconvert_exporter": "python",
   "pygments_lexer": "ipython3",
   "version": "3.8.5"
  }
 },
 "nbformat": 4,
 "nbformat_minor": 4
}
