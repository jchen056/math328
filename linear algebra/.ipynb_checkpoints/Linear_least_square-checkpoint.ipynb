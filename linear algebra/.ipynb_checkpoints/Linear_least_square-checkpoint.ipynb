{
 "cells": [
  {
   "cell_type": "code",
   "execution_count": 1,
   "id": "8eb2f0ad",
   "metadata": {},
   "outputs": [],
   "source": [
    "import numpy as np\n",
    "import math"
   ]
  },
  {
   "cell_type": "markdown",
   "id": "e5d7150e",
   "metadata": {},
   "source": [
    "# Chapter 6: Linear Least Squares Problems\n",
    "solve Ax=b\n",
    "\n",
    "Since there is no solution, we can try to minize $||b-Ax||_2$\n",
    "### Normal equations\n",
    "$A^T Ax=A^Tb$\n",
    "\n",
    "### QR factorization: Gram-Schmidt algorithm\n",
    "A matrix Q is orthogonal if its columns are orthonormal or if *Q.T@Q=I*.\n",
    "### QR factorization: Householder reflectors"
   ]
  },
  {
   "cell_type": "markdown",
   "id": "33bf2479",
   "metadata": {},
   "source": [
    "## Normal equations\n",
    "\n",
    "### Library used\n",
    "1. np.linalg.lstsq: https://numpy.org/doc/stable/reference/generated/numpy.linalg.lstsq.html\n",
    "2. np.linalg.cholesky: https://numpy.org/doc/stable/reference/generated/numpy.linalg.cholesky.html\n",
    "* cholesky returns the lower-triangular Cholesky factor of a\n",
    "3. np.linalg.solve:https://numpy.org/doc/stable/reference/generated/numpy.linalg.solve.html\n",
    "\n",
    "### Pros and cons\n",
    "1. fast and straightforward\n",
    "2. not as stable as it can be in general: if you have large condition numbers\n"
   ]
  },
  {
   "cell_type": "code",
   "execution_count": 14,
   "id": "360a70e4",
   "metadata": {},
   "outputs": [
    {
     "name": "stdout",
     "output_type": "stream",
     "text": [
      "Estimate of x: [ 0.34722617  0.39900427 -0.7859175 ]\n",
      "Residual r=b-Ax: [ 4.43869132  0.03812233  0.49502134 -1.89302987  1.31095306]\n",
      "L2 norm of A.T@r: 1.890380887718447e-14\n",
      "Residual L2 norm: 5.025001503860272\n"
     ]
    }
   ],
   "source": [
    "#using np.linalg.lstsq\n",
    "def normal_equations1(A,b):\n",
    "    x=np.linalg.lstsq(A,b,rcond=None)\n",
    "    print(\"Estimate of x:\",x[0])\n",
    "    \n",
    "    r=b-A@x[0]#compute residual, x[0] is our estimate of x to Ax=b\n",
    "    print(\"Residual r=b-Ax:\",r)\n",
    "    #Are r and A.T perpendicular? They should be perpendicular\n",
    "    print(\"L2 norm of A.T@r:\",np.linalg.norm(A.T@r))\n",
    "    print(\"Residual L2 norm:\",math.sqrt(x[1]))#np.linalg.lstsq returns sums of squared residuals\n",
    "    \n",
    "\n",
    "A=np.array([[1,0,1],\n",
    "           [2,3,5],\n",
    "           [5,3,-2],\n",
    "           [3,5,4],\n",
    "           [-1,6,3]])\n",
    "b=np.array([4,-2,5,-2,1])\n",
    "normal_equations1(A,b)"
   ]
  },
  {
   "cell_type": "code",
   "execution_count": 18,
   "id": "e0b0420a",
   "metadata": {},
   "outputs": [
    {
     "name": "stdout",
     "output_type": "stream",
     "text": [
      "[ 0.34722617  0.39900427 -0.7859175 ]\n",
      "Residual r=b-A@x: [ 4.43869132  0.03812233  0.49502134 -1.89302987  1.31095306]\n",
      "A.T @ r: [ 1.77635684e-15  0.00000000e+00 -4.44089210e-15]\n"
     ]
    }
   ],
   "source": [
    "#using the definition A.T Ax=A.T b\n",
    "\n",
    "def normal_eqn2(A,b):\n",
    "    B=A.T@A\n",
    "    y=A.T@b\n",
    "    \n",
    "    #B is symmetric, pos def, where Cholesky factorization comes in\n",
    "    G=np.linalg.cholesky(B)\n",
    "    \n",
    "    #Bx=y => G G.T x=y; using forward substitution and backward substitution\n",
    "    z=np.linalg.solve(G,y)\n",
    "    x=np.linalg.solve(G.T,z)\n",
    "    print(x)\n",
    "    r=b-A@x\n",
    "    print(\"Residual r=b-A@x:\",r)\n",
    "    print(\"A.T @ r:\",A.T@r)\n",
    "normal_eqn2(A,b)"
   ]
  },
  {
   "cell_type": "markdown",
   "id": "f3433a8f",
   "metadata": {},
   "source": [
    "## QR factorization\n",
    "more computational expensive than normal equations but is more robust\n",
    "1. steps\n",
    "* Ax=b\n",
    "* QRx=b\n",
    "* (Q.T@Q)@Rx=Q.T@b\n",
    "* Rx=Q.T@b\n",
    "2. libraries\n",
    "np.linalg.qr: https://numpy.org/doc/stable/reference/generated/numpy.linalg.qr.html"
   ]
  },
  {
   "cell_type": "code",
   "execution_count": 19,
   "id": "f6187a81",
   "metadata": {},
   "outputs": [
    {
     "name": "stdout",
     "output_type": "stream",
     "text": [
      "[ 0.34722617  0.39900427 -0.7859175 ]\n"
     ]
    }
   ],
   "source": [
    "def QR_fac(A,b):\n",
    "    Q,R=np.linalg.qr(A)\n",
    "    x=np.linalg.solve(R,Q.T@b)\n",
    "    print(x)\n",
    "QR_fac(A,b)"
   ]
  },
  {
   "cell_type": "code",
   "execution_count": null,
   "id": "919b506b",
   "metadata": {},
   "outputs": [],
   "source": []
  }
 ],
 "metadata": {
  "kernelspec": {
   "display_name": "Python 3 (ipykernel)",
   "language": "python",
   "name": "python3"
  },
  "language_info": {
   "codemirror_mode": {
    "name": "ipython",
    "version": 3
   },
   "file_extension": ".py",
   "mimetype": "text/x-python",
   "name": "python",
   "nbconvert_exporter": "python",
   "pygments_lexer": "ipython3",
   "version": "3.9.12"
  }
 },
 "nbformat": 4,
 "nbformat_minor": 5
}
