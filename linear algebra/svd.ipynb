{
 "cells": [
  {
   "cell_type": "code",
   "execution_count": 14,
   "id": "de8e679c",
   "metadata": {},
   "outputs": [],
   "source": [
    "import numpy as np\n",
    "import math"
   ]
  },
  {
   "cell_type": "code",
   "execution_count": 36,
   "id": "0073efa5",
   "metadata": {},
   "outputs": [
    {
     "name": "stdout",
     "output_type": "stream",
     "text": [
      "eigenvalues: [ 3.  1. -2.]\n",
      "eigenvectors: [[ 3.01511345e-01  4.08248290e-01 -5.96744876e-16]\n",
      " [-3.01511345e-01 -4.08248290e-01 -7.07106781e-01]\n",
      " [ 9.04534034e-01  8.16496581e-01  7.07106781e-01]]\n"
     ]
    }
   ],
   "source": [
    "#find eigenvalues and eigenvectors using linalg.eig\n",
    "\n",
    "a,b=np.linalg.eig(np.array([[-1,2,2],[-1,-4,-2],[-3,9,7]]))\n",
    "print(\"eigenvalues:\",a)\n",
    "print(\"eigenvectors:\",b)"
   ]
  },
  {
   "cell_type": "markdown",
   "id": "e6aecc85",
   "metadata": {},
   "source": [
    "## power method\n",
    "the **power method** is based on repeated multiplication of the n by n square matrix A on a random vector $x_0$ (almost any intial vector will do). The resulting FPI is $x_{k+1}=g(x_k)=Ax_k$ gravitates towards the direction of the dominant eigenvector"
   ]
  },
  {
   "cell_type": "code",
   "execution_count": 37,
   "id": "016c8720",
   "metadata": {},
   "outputs": [
    {
     "name": "stdout",
     "output_type": "stream",
     "text": [
      "1 [-0.30151134 -0.30151134 -0.90453403] 7.000000000000001\n",
      "2 [-0.23346307  0.36687054 -0.90050042] 2.4749721913236926\n",
      "3 [-0.33186166  0.22566593 -0.91593817] 3.7330396475770904\n",
      "4 [-0.27880057  0.33526651 -0.89992589] 2.685344559166033\n",
      "5 [-0.31590132  0.27395592 -0.90838016] 3.260586140124501\n",
      "6 [-0.29189446  0.31759081 -0.90218274] 2.8471580642243968\n",
      "7 [-0.30796797  0.28992683 -0.90614467] 3.1092513208091415\n",
      "8 [-0.29725666  0.30885869 -0.90346266] 2.930110504422389\n",
      "9 [-0.30437715  0.29645879 -0.90524402] 3.047726703216416\n",
      "10 [-0.29961691  0.3048129  -0.90405686] 2.968642581827357\n",
      "11 [-0.30278232  0.29928181 -0.90484986] 3.02109187541328\n",
      "12 [-0.30066792  0.30298528 -0.90432225] 2.9860166247940434\n",
      "13 [-0.30207546  0.30052332 -0.90467461] 3.0093549801095723\n",
      "14 [-0.30113612  0.30216766 -0.90444002] 2.993777296700909\n",
      "15 [-0.30176188  0.30107276 -0.90459657] 3.004154463876502\n",
      "16 [-0.30134449  0.30180327 -0.90449228] 2.9972329547166483\n",
      "17 [-0.30162266  0.30131652 -0.90456184] 3.0018458286144427\n",
      "18 [-0.30143717  0.30164114 -0.90451548] 2.998769943094028\n",
      "19 [-0.30156081  0.30142478 -0.9045464 ] 3.0008202556584904\n",
      "20 [-0.30147838  0.30156904 -0.90452579] 2.9994532588242917\n"
     ]
    }
   ],
   "source": [
    "#A is the matrix: n by n square matrix\n",
    "#v is our initla guess\n",
    "#n: number of iterations\n",
    "# look for dominant eigenvector\n",
    "A=np.array([[-1,2,2],\n",
    "            [-1,-4,-2],\n",
    "            [-3,9,7]])\n",
    "v=np.array([1,0,0])\n",
    "def power_method(A,v,n):\n",
    "    for i in range(n):\n",
    "        v=A@v\n",
    "        v=v/np.linalg.norm(v)\n",
    "        lam=np.dot(v, A@v)\n",
    "        print(i+1,v,lam)\n",
    "power_method(A,v,20)"
   ]
  },
  {
   "cell_type": "code",
   "execution_count": 38,
   "id": "f29fc522",
   "metadata": {},
   "outputs": [
    {
     "data": {
      "text/plain": [
       "array([ 1.66666667, -2.16666667,  3.5       ])"
      ]
     },
     "execution_count": 38,
     "metadata": {},
     "output_type": "execute_result"
    }
   ],
   "source": [
    "np.linalg.solve(np.array([[-1,2,2],\n",
    "            [-1,-4,-2],\n",
    "            [-3,9,7]]), np.array([1,0,0]))"
   ]
  },
  {
   "cell_type": "code",
   "execution_count": 18,
   "id": "4b90f4df",
   "metadata": {},
   "outputs": [
    {
     "name": "stdout",
     "output_type": "stream",
     "text": [
      "1 [0.4472136  0.89442719] 9.0\n",
      "2 [-0.17888544  0.98386991] 4.800000000000001\n",
      "3 [-0.55930131  0.82896444] 3.0673316708229423\n",
      "4 [-0.66559985  0.74630881] 2.965821936508725\n",
      "5 [-0.69494857  0.71905944] 2.9849881897641666\n",
      "6 [-0.70348661  0.71070851] 2.9950759559356985\n",
      "7 [-0.70602321  0.7081887 ] 2.9984851814325237\n",
      "8 [-0.70678193  0.70743148] 2.999542176658195\n",
      "9 [-0.70700935  0.7072042 ] 2.9998623491810754\n",
      "10 [-0.70707755  0.70713601] 2.9999586774158065\n",
      "11 [-0.70709801  0.70711555] 2.999987600764409\n",
      "12 [-0.70710415  0.70710941] 2.9999962800078954\n",
      "13 [-0.70710599  0.70710757] 2.9999988839824407\n",
      "14 [-0.70710654  0.70710702] 2.9999996651929384\n",
      "15 [-0.70710671  0.70710685] 2.9999998995577206\n",
      "16 [-0.70710676  0.7071068 ] 2.999999969867301\n",
      "17 [-0.70710677  0.70710679] 2.9999999909601893\n",
      "18 [-0.70710678  0.70710678] 2.999999997288056\n",
      "19 [-0.70710678  0.70710678] 2.9999999991864175\n",
      "20 [-0.70710678  0.70710678] 2.999999999755926\n"
     ]
    }
   ],
   "source": [
    "#look for minimum eigenvector \n",
    "def power_var(A,v,n):\n",
    "    for i in range(n):\n",
    "        v=np.linalg.solve(A,v)\n",
    "        v=v/np.linalg.norm(v)\n",
    "        lam=np.dot(v,A@v)\n",
    "        print(i+1,v,lam)\n",
    "power_var(A,v,20)"
   ]
  },
  {
   "cell_type": "code",
   "execution_count": 20,
   "id": "de41f8e0",
   "metadata": {},
   "outputs": [
    {
     "name": "stdout",
     "output_type": "stream",
     "text": [
      "1 [0.83205029 0.5547002 ] 9.92307692307692\n",
      "2 [0.78631834 0.61782155] 10.018927444794953\n",
      "3 [0.80533688 0.59281743] 9.990491680220192\n",
      "4 [0.79784337 0.60286479] 10.003495783462332\n",
      "5 [0.80085916 0.59885274] 9.998552315943403\n",
      "6 [0.79965578 0.60045869] 10.000571184580982\n",
      "7 [0.8001376  0.59981649] 9.999770263258725\n",
      "8 [0.79994495 0.6000734 ] 10.000091692673339\n",
      "9 [0.80002202 0.59997064] 9.99996329060425\n",
      "10 [0.79999119 0.60001174] 10.000014678586247\n",
      "11 [0.80000352 0.5999953 ] 9.999994127737962\n",
      "12 [0.79999859 0.60000188] 10.000002348772409\n",
      "13 [0.80000056 0.59999925] 9.999999060469847\n",
      "14 [0.79999977 0.6000003 ] 10.000000375808671\n",
      "15 [0.80000009 0.59999988] 9.99999984967599\n",
      "16 [0.79999996 0.60000005] 10.000000060129516\n",
      "17 [0.80000001 0.59999998] 9.999999975948176\n",
      "18 [0.79999999 0.60000001] 10.000000009620726\n",
      "19 [0.8 0.6] 9.999999996151711\n",
      "20 [0.8 0.6] 10.000000001539314\n"
     ]
    }
   ],
   "source": [
    "#alpha is your eigenvalue approximate\n",
    "def power_var2(A,v,n,alpha):\n",
    "    for i in range(n):\n",
    "        v=np.linalg.solve(A-alpha*np.eye(len(A)),v)\n",
    "        v=v/np.linalg.norm(v)\n",
    "        lam=np.dot(v,A@v)\n",
    "        print(i+1,v,lam)\n",
    "power_var2(A,v,20,8)\n"
   ]
  },
  {
   "cell_type": "markdown",
   "id": "a091a640",
   "metadata": {},
   "source": [
    "## SVD factorization\n",
    "$A=U \\Sigma V^T$ where $U$ and $V^T$ are orthogonal matrices and $\\Sigma$ is diagonal\n",
    "\n",
    "1. find the eigenvalues $\\lambda_i$ and unit eigenvectors $v_i$ of $A^TA$\n",
    "2. let columns of the matrix V be the unit eigenvectors of $v_i$\n",
    "3. let $u_1=\\frac{Av_1}{||Av_1||}$, $u_2=\\frac{Av_2}{||Av_2||}$,...,$u_n=\\frac{Av_n}{||Av_n||}$ be columns of the matrix U\n",
    "4. the diagonal matrix have diagonal elements the singular values $\\sigma_1=\\sqrt{\\lambda_1}$,$\\sigma_2=\\sqrt{\\lambda_2}$,...,$\\sigma_m=\\sqrt{\\lambda_m}$"
   ]
  },
  {
   "cell_type": "code",
   "execution_count": 35,
   "id": "7e1e00ae",
   "metadata": {},
   "outputs": [
    {
     "name": "stdout",
     "output_type": "stream",
     "text": [
      "[[-0.4472136   0.89442719]\n",
      " [ 0.89442719  0.4472136 ]]\n",
      "[10.  5.]\n",
      "[[-0.89442719  0.4472136 ]\n",
      " [ 0.4472136   0.89442719]]\n"
     ]
    }
   ],
   "source": [
    "u, s, vh = np.linalg.svd(np.array([[6,2],[-7,6]]), full_matrices=True)\n",
    "print(u)\n",
    "print(s)\n",
    "print(vh)"
   ]
  },
  {
   "cell_type": "code",
   "execution_count": 22,
   "id": "df529195",
   "metadata": {},
   "outputs": [
    {
     "data": {
      "text/plain": [
       "array([[ 85, -30],\n",
       "       [-30,  40]])"
      ]
     },
     "execution_count": 22,
     "metadata": {},
     "output_type": "execute_result"
    }
   ],
   "source": [
    "np.array([[6,2],[-7,6]]).T @ np.array([[6,2],[-7,6]])"
   ]
  },
  {
   "cell_type": "code",
   "execution_count": 42,
   "id": "35f2f442",
   "metadata": {},
   "outputs": [],
   "source": [
    "# def svd_manual(A):\n",
    "#     w,v=np.linalg.eig(A.T@A)\n",
    "#     v_normalized=[]\n",
    "#     for i in v:\n",
    "#         v_normalized.append(i/np.linalg.norm(i))\n",
    "#     v_normalized=np.array(v_normalized).T\n",
    "    \n",
    "#     sig=np.eye(len(A))\n",
    "#     for i in range(len(A)):\n",
    "#         sig[i][i]=math.sqrt(w[i])\n",
    "    \n",
    "    \n",
    "#     w2,u=np.linalg.eig(A@A.T)\n",
    "# #     for i in v_normalized:\n",
    "# #         u.append((A@i)/np.linalg.norm(A@i))\n",
    "#     print(\"U:\",u)\n",
    "#     print(\"Sigma:\",sig)\n",
    "#     print(\"V.T:\",v_normalized)\n",
    "#     print(u@sig@v_normalized)\n",
    "# svd_manual(np.array([[6,2],[-7,6]]))"
   ]
  },
  {
   "cell_type": "code",
   "execution_count": null,
   "id": "c9a7f34e",
   "metadata": {},
   "outputs": [],
   "source": []
  }
 ],
 "metadata": {
  "kernelspec": {
   "display_name": "Python 3 (ipykernel)",
   "language": "python",
   "name": "python3"
  },
  "language_info": {
   "codemirror_mode": {
    "name": "ipython",
    "version": 3
   },
   "file_extension": ".py",
   "mimetype": "text/x-python",
   "name": "python",
   "nbconvert_exporter": "python",
   "pygments_lexer": "ipython3",
   "version": "3.9.12"
  }
 },
 "nbformat": 4,
 "nbformat_minor": 5
}
