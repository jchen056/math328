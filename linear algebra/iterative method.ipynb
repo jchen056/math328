{
 "cells": [
  {
   "cell_type": "code",
   "execution_count": 1,
   "id": "aceb8fb3",
   "metadata": {},
   "outputs": [],
   "source": [
    "import numpy as np\n",
    "import math"
   ]
  },
  {
   "cell_type": "markdown",
   "id": "8783aa8d",
   "metadata": {},
   "source": [
    "there are several iterative methods that you can use to approximate Ax=b\n",
    "\n",
    "$x_n=g(x_{n-1})=x_{n-1}+M^{-1}r_{n-1}$\n",
    "1. Jacobi method: M=D, diagonal of A\n",
    "2. Gauss-Seidal method: M=E, the lower triangular part of A"
   ]
  },
  {
   "cell_type": "code",
   "execution_count": 3,
   "id": "c3ea065c",
   "metadata": {},
   "outputs": [
    {
     "name": "stdout",
     "output_type": "stream",
     "text": [
      "k= 1 :x= [1.   0.25 0.4 ]\n",
      "k= 2 :x= [1.05 0.7  0.85]\n",
      "k= 3 :x= [1.05   0.9375 0.96  ]\n",
      "k= 4 :x= [1.0075 0.9925 1.0075]\n",
      "k= 5 :x= [1.005    1.005625 1.0015  ]\n",
      "k= 6 :x= [0.998625 1.002    1.003125]\n",
      "k= 7 :x= [1.000375   1.00121875 0.99985   ]\n",
      "k= 8 :x= [0.99954375 1.00001875 1.00039375]\n",
      "k= 9 :x= [1.000125   1.00008281 0.99982125]\n",
      "k= 10 :x= [0.99991281 0.99994187 1.00006656]\n"
     ]
    },
    {
     "data": {
      "text/plain": [
       "array([0.99991281, 0.99994187, 1.00006656])"
      ]
     },
     "execution_count": 3,
     "metadata": {},
     "output_type": "execute_result"
    }
   ],
   "source": [
    "x=np.array([0,0,0])#our intial guess\n",
    "A=np.array([[3,1,-1],\n",
    "            [1,-4,2],\n",
    "            [-2,-1,5]\n",
    "           ])\n",
    "b=np.array([3,-1,2])\n",
    "\n",
    "\n",
    "def Jacobi(A,b,x0,iterations):\n",
    "    D=np.diag(np.diag(A),0)\n",
    "    M_inv=np.linalg.inv(D)\n",
    "    for i in range(iterations):\n",
    "        r=b-A@x0\n",
    "        x0=x0+M_inv@r\n",
    "        print(\"k=\",i+1,\":x=\",x0)\n",
    "    return x0\n",
    "Jacobi(A,b,x,10)"
   ]
  },
  {
   "cell_type": "code",
   "execution_count": 4,
   "id": "15308e22",
   "metadata": {},
   "outputs": [
    {
     "name": "stdout",
     "output_type": "stream",
     "text": [
      "k= 1 :x= [1.  0.5 0.9]\n",
      "k= 2 :x= [1.13333333 0.98333333 1.05      ]\n",
      "k= 3 :x= [1.02222222 1.03055556 1.015     ]\n",
      "k= 4 :x= [0.99481481 1.0062037  0.99916667]\n",
      "k= 5 :x= [0.99765432 0.99899691 0.99886111]\n",
      "k= 6 :x= [0.99995473 0.99941924 0.99986574]\n",
      "k= 7 :x= [1.00014883 0.99997008 1.00005355]\n",
      "k= 8 :x= [1.00002782 1.00003373 1.00001788]\n",
      "k= 9 :x= [0.99999471 1.00000762 0.99999941]\n",
      "k= 10 :x= [0.99999726 0.99999902 0.99999871]\n"
     ]
    },
    {
     "data": {
      "text/plain": [
       "array([0.99999726, 0.99999902, 0.99999871])"
      ]
     },
     "execution_count": 4,
     "metadata": {},
     "output_type": "execute_result"
    }
   ],
   "source": [
    "def Gauss_seidal(A,b,x0,iterations):\n",
    "    m,n=A.shape\n",
    "    E=np.zeros((m,n))\n",
    "    for i in range(m):\n",
    "        for j in range(i+1):\n",
    "            E[i][j]=A[i][j]\n",
    "    M_inv=np.linalg.inv(E)\n",
    "    \n",
    "    for i in range(iterations):\n",
    "        r=b-A@x0\n",
    "        x0=x0+M_inv@r\n",
    "        print(\"k=\",i+1,\":x=\",x0)\n",
    "    return x0\n",
    "Gauss_seidal(A,b,x,10)"
   ]
  },
  {
   "cell_type": "code",
   "execution_count": null,
   "id": "2032e650",
   "metadata": {},
   "outputs": [],
   "source": []
  }
 ],
 "metadata": {
  "kernelspec": {
   "display_name": "Python 3 (ipykernel)",
   "language": "python",
   "name": "python3"
  },
  "language_info": {
   "codemirror_mode": {
    "name": "ipython",
    "version": 3
   },
   "file_extension": ".py",
   "mimetype": "text/x-python",
   "name": "python",
   "nbconvert_exporter": "python",
   "pygments_lexer": "ipython3",
   "version": "3.9.12"
  }
 },
 "nbformat": 4,
 "nbformat_minor": 5
}
