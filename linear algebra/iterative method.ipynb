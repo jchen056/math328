{
 "cells": [
  {
   "cell_type": "code",
   "execution_count": 1,
   "id": "aceb8fb3",
   "metadata": {},
   "outputs": [],
   "source": [
    "import numpy as np\n",
    "import math"
   ]
  },
  {
   "cell_type": "markdown",
   "id": "8783aa8d",
   "metadata": {},
   "source": [
    "there are several iterative methods that you can use to approximate Ax=b\n",
    "\n",
    "$x_n=g(x_{n-1})=x_{n-1}+M^{-1}r_{n-1}$\n",
    "1. Jacobi method: M=D, diagonal of A\n",
    "2. Gauss-Seidal method: M=E, the lower triangular part of A"
   ]
  },
  {
   "cell_type": "code",
   "execution_count": 2,
   "id": "c3ea065c",
   "metadata": {},
   "outputs": [
    {
     "name": "stdout",
     "output_type": "stream",
     "text": [
      "k= 1 :x= [ 0.42857143  0.7        -0.06666667]\n",
      "k= 2 :x= [0.13809524 0.54190476 0.22190476]\n",
      "k= 3 :x= [0.16462585 0.39704762 0.1287619 ]\n",
      "k= 4 :x= [0.24001361 0.42363537 0.06293061]\n",
      "k= 5 :x= [0.23802332 0.45941796 0.08036408]\n",
      "k= 6 :x= [0.22019743 0.45533418 0.09692994]\n",
      "k= 7 :x= [0.21958107 0.44667324 0.09383578]\n",
      "k= 8 :x= [0.22373493 0.44710717 0.08975292]\n",
      "k= 9 :x= [0.22413223 0.44916989 0.09023234]\n",
      "k= 10 :x= [0.22317971 0.4491932  0.09122143]\n"
     ]
    },
    {
     "data": {
      "text/plain": [
       "array([0.22317971, 0.4491932 , 0.09122143])"
      ]
     },
     "execution_count": 2,
     "metadata": {},
     "output_type": "execute_result"
    }
   ],
   "source": [
    "x=np.array([1,0,0])#our intial guess\n",
    "A=np.array([[7,3,1],\n",
    "            [-3,10,2],\n",
    "            [1,7,-15]\n",
    "           ])\n",
    "b=np.array([3,4,2])\n",
    "\n",
    "\n",
    "def Jacobi(A,b,x0,iterations):\n",
    "    D=np.diag(np.diag(A),0)\n",
    "    M_inv=np.linalg.inv(D)\n",
    "    for i in range(iterations):\n",
    "        r=b-A@x0\n",
    "        x0=x0+M_inv@r\n",
    "        print(\"k=\",i+1,\":x=\",x0)\n",
    "    return x0\n",
    "Jacobi(A,b,x,10)"
   ]
  },
  {
   "cell_type": "code",
   "execution_count": 4,
   "id": "1e401d71",
   "metadata": {},
   "outputs": [
    {
     "data": {
      "text/plain": [
       "array([2.97092299, 3.99566075, 1.93875705])"
      ]
     },
     "execution_count": 4,
     "metadata": {},
     "output_type": "execute_result"
    }
   ],
   "source": [
    "A@ np.array([0.21958107,0.44667324,0.09383578])"
   ]
  },
  {
   "cell_type": "code",
   "execution_count": null,
   "id": "9766c7d7",
   "metadata": {},
   "outputs": [],
   "source": []
  },
  {
   "cell_type": "code",
   "execution_count": 4,
   "id": "15308e22",
   "metadata": {},
   "outputs": [
    {
     "name": "stdout",
     "output_type": "stream",
     "text": [
      "k= 1 :x= [1.  0.5 0.9]\n",
      "k= 2 :x= [1.13333333 0.98333333 1.05      ]\n",
      "k= 3 :x= [1.02222222 1.03055556 1.015     ]\n",
      "k= 4 :x= [0.99481481 1.0062037  0.99916667]\n",
      "k= 5 :x= [0.99765432 0.99899691 0.99886111]\n",
      "k= 6 :x= [0.99995473 0.99941924 0.99986574]\n",
      "k= 7 :x= [1.00014883 0.99997008 1.00005355]\n",
      "k= 8 :x= [1.00002782 1.00003373 1.00001788]\n",
      "k= 9 :x= [0.99999471 1.00000762 0.99999941]\n",
      "k= 10 :x= [0.99999726 0.99999902 0.99999871]\n"
     ]
    },
    {
     "data": {
      "text/plain": [
       "array([0.99999726, 0.99999902, 0.99999871])"
      ]
     },
     "execution_count": 4,
     "metadata": {},
     "output_type": "execute_result"
    }
   ],
   "source": [
    "def Gauss_seidal(A,b,x0,iterations):\n",
    "    m,n=A.shape\n",
    "    E=np.zeros((m,n))\n",
    "    for i in range(m):\n",
    "        for j in range(i+1):\n",
    "            E[i][j]=A[i][j]\n",
    "    M_inv=np.linalg.inv(E)\n",
    "    \n",
    "    for i in range(iterations):\n",
    "        r=b-A@x0\n",
    "        x0=x0+M_inv@r\n",
    "        print(\"k=\",i+1,\":x=\",x0)\n",
    "    return x0\n",
    "Gauss_seidal(A,b,x,10)"
   ]
  },
  {
   "cell_type": "code",
   "execution_count": null,
   "id": "2032e650",
   "metadata": {},
   "outputs": [],
   "source": []
  }
 ],
 "metadata": {
  "kernelspec": {
   "display_name": "Python 3 (ipykernel)",
   "language": "python",
   "name": "python3"
  },
  "language_info": {
   "codemirror_mode": {
    "name": "ipython",
    "version": 3
   },
   "file_extension": ".py",
   "mimetype": "text/x-python",
   "name": "python",
   "nbconvert_exporter": "python",
   "pygments_lexer": "ipython3",
   "version": "3.9.12"
  }
 },
 "nbformat": 4,
 "nbformat_minor": 5
}
