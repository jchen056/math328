{
 "cells": [
  {
   "cell_type": "code",
   "execution_count": 21,
   "metadata": {},
   "outputs": [],
   "source": [
    "import numpy as np\n",
    "from numpy.linalg import norm\n",
    "from numpy.linalg import det\n",
    "from numpy.linalg import inv\n",
    "from numpy.linalg import cond, matrix_rank"
   ]
  },
  {
   "cell_type": "code",
   "execution_count": 4,
   "metadata": {},
   "outputs": [
    {
     "name": "stdout",
     "output_type": "stream",
     "text": [
      "(1, 5)\n",
      "(4, 1)\n"
     ]
    }
   ],
   "source": [
    "vector_row = np.array([[1, -5, 3, 2, 4]])\n",
    "vector_column = np.array([[1], \n",
    "                          [2], \n",
    "                          [3], \n",
    "                          [4]])\n",
    "print(vector_row.shape)\n",
    "print(vector_column.shape)"
   ]
  },
  {
   "cell_type": "markdown",
   "metadata": {},
   "source": [
    "# norm\n",
    "1. L1 (Manhattan distance): $||$v$||_1$=|$v_1$|+|$v_2$|+...+|$v_n$|\n",
    "\n",
    "2. L2: Euclidian distance\n",
    "\n",
    "3. LP"
   ]
  },
  {
   "cell_type": "code",
   "execution_count": 6,
   "metadata": {},
   "outputs": [
    {
     "name": "stdout",
     "output_type": "stream",
     "text": [
      "[[ 1]\n",
      " [-5]\n",
      " [ 3]\n",
      " [ 2]\n",
      " [ 4]]\n"
     ]
    }
   ],
   "source": [
    "new_vector = vector_row.T\n",
    "print(new_vector)"
   ]
  },
  {
   "cell_type": "code",
   "execution_count": 7,
   "metadata": {},
   "outputs": [
    {
     "name": "stdout",
     "output_type": "stream",
     "text": [
      "L_1 is: 15.0\n",
      "L_2 is: 7.4\n",
      "L_inf is: 5.0\n"
     ]
    }
   ],
   "source": [
    "norm_1 = norm(new_vector, 1)#1+5+3+2+4=15\n",
    "norm_2 = norm(new_vector, 2)#(1+25+9+4+16)^(1/2)=(55)^(1/2)\n",
    "norm_inf = norm(new_vector, np.inf)\n",
    "print('L_1 is: %.1f'%norm_1)\n",
    "print('L_2 is: %.1f'%norm_2)\n",
    "print('L_inf is: %.1f'%norm_inf)"
   ]
  },
  {
   "cell_type": "markdown",
   "metadata": {},
   "source": [
    "# vector algebra\n",
    "1. Vector addition is defined as the pairwise addition of each of the elements of the added vectors.\n",
    "2. Vector multiplication can be defined in several ways depending on the context. Scalar multiplication of a vector is the product of a vector and a scalar. \n",
    "3. The dot product of two vectors is the sum of the product of the respective elements in each vector and is denoted by ⋅, and 𝑣⋅𝑤 is read “v dot w.” \n",
    "\n",
    "The angle between two vectors, 𝜃, is defined by the formula: $𝑣⋅𝑤=‖𝑣‖_2‖𝑤‖_2cos𝜃$\n",
    "\n",
    "4. cross product between two vectors, 𝑣 and 𝑤, is written 𝑣×𝑤. It is defined by $𝑣×𝑤=‖𝑣‖_2‖𝑤‖_2sin(𝜃)n$, where 𝜃 is the angle between the 𝑣 and 𝑤 (which can be computed from the dot product) and 𝑛 is a vector perpendicular to both 𝑣 and 𝑤 with unit length (i.e., the length is one).\n",
    "5. A set is called linearly independent if no object in the set can be written as a linear combination of the other objects in the set. For the purposes of this book, we will only consider the linear independence of a set of vectors. A set of vectors that is not linearly independent is linearly dependent."
   ]
  },
  {
   "cell_type": "code",
   "execution_count": 11,
   "metadata": {},
   "outputs": [
    {
     "name": "stdout",
     "output_type": "stream",
     "text": [
      "angle between vectors: [[0.97992471]]\n"
     ]
    }
   ],
   "source": [
    "#Compute the angle between the vectors 𝑣=[10,9,3] and 𝑤=[2,5,12].\n",
    "v = np.array([[10, 9, 3]])\n",
    "w = np.array([[2, 5, 12]])\n",
    "\n",
    "print(\"angle between vectors:\",np.arccos(np.dot(v,w.T)/(norm(v,2)*(norm(w,2)))))"
   ]
  },
  {
   "cell_type": "code",
   "execution_count": 13,
   "metadata": {},
   "outputs": [
    {
     "name": "stdout",
     "output_type": "stream",
     "text": [
      "cross product of vectors: [ 0  0 -6]\n"
     ]
    }
   ],
   "source": [
    "#cross product: Given the vectors 𝑣=[0,2,0] and 𝑤=[3,0,0], compute its cross product\n",
    "print(\"cross product of vectors:\",np.cross(np.array([0,2,0]),np.array([3,0,0])))\n"
   ]
  },
  {
   "cell_type": "markdown",
   "metadata": {},
   "source": [
    "# matrices\n",
    "An 𝑚×𝑛 matrix is a rectangular table of numbers consisting of 𝑚 rows and 𝑛 columns.\n",
    "1. matrix multiplication between two matrices, 𝑃 and 𝑄, is defined when 𝑃 is an 𝑚×𝑝 matrix and 𝑄 is a 𝑝×𝑛 matrix. The result of 𝑀=𝑃𝑄 is a matrix 𝑀 that is 𝑚×𝑛.\n",
    "2. A square matrix is an 𝑛×𝑛 matrix; that is, it has the same number of rows as columns. The determinant is an important property of square matrices. The determinant is denoted by 𝑑𝑒𝑡(𝑀), both in mathematics and in Numpy’s linalg package, sometimes it is also denoted as |𝑀|.\n",
    "3. The identity matrix is a square matrix with ones on the diagonal and zeros elsewhere. The identity matrix is usually denoted by 𝐼, and is analagous to the real number identity, 1. That is, multiplying any matrix by 𝐼 (of compatible size) will produce the same matrix.\n",
    "4. The inverse of a square matrix 𝑀 is a matrix of the same size, 𝑁, such that 𝑀⋅𝑁=𝐼. A matrix is said to be invertible if it has an inverse. The inverse of a matrix is unique; that is, for an invertible matrix, there is only one inverse for that matrix.\n",
    "\n",
    "0 has no inverse for multiplication in the real-numbers setting. Similarly, there are matrices that do not have inverses. These matrices are called singular. Matrices that do have an inverse are called nonsingular. One way to determine if a matrix is singular is by computing its determinant. If the determinant is 0, then the matrix is singular; if not, the matrix is nonsingular.\n",
    "\n",
    "A matrix that is close to being singular (i.e., the determinant is close to 0) is called ill-conditioned. The condition number is a measure of how ill-conditioned a matrix is, and it can be computed using Numpy’s function cond from linalg. The higher the condition number, the closer the matrix is to being singular.\n",
    " \n",
    "5. The rank. of an 𝑚×𝑛 matrix 𝐴 is the number of linearly independent columns or rows of 𝐴, and is denoted by rank(𝐴)."
   ]
  },
  {
   "cell_type": "code",
   "execution_count": 15,
   "metadata": {},
   "outputs": [
    {
     "name": "stdout",
     "output_type": "stream",
     "text": [
      "[[ 9 20 24 29]\n",
      " [ 7 18 15 14]\n",
      " [10 30 15  5]]\n"
     ]
    }
   ],
   "source": [
    "#matrix multiplication using np.dot()\n",
    "P = np.array([[1, 7], [2, 3], [5, 0]])#shape(3,2)\n",
    "Q = np.array([[2, 6, 3, 1], [1, 2, 3, 4]])#shape(2,4)\n",
    "# print(P)\n",
    "# print(Q)\n",
    "print(np.dot(P, Q))#shape(3,4)"
   ]
  },
  {
   "cell_type": "code",
   "execution_count": 17,
   "metadata": {},
   "outputs": [
    {
     "name": "stdout",
     "output_type": "stream",
     "text": [
      "M:\n",
      " [[0 2 1 3]\n",
      " [3 2 8 1]\n",
      " [1 0 0 3]\n",
      " [0 3 2 1]]\n",
      "Determinant: -38.0\n",
      "I:\n",
      " [[1. 0. 0. 0.]\n",
      " [0. 1. 0. 0.]\n",
      " [0. 0. 1. 0.]\n",
      " [0. 0. 0. 1.]]\n",
      "M*I:\n",
      " [[0. 2. 1. 3.]\n",
      " [3. 2. 8. 1.]\n",
      " [1. 0. 0. 3.]\n",
      " [0. 3. 2. 1.]]\n"
     ]
    }
   ],
   "source": [
    "M = np.array([[0,2,1,3], \n",
    "             [3,2,8,1], \n",
    "             [1,0,0,3],\n",
    "             [0,3,2,1]])\n",
    "print('M:\\n', M)\n",
    "\n",
    "print('Determinant: %.1f'%det(M))\n",
    "I = np.eye(4)\n",
    "print('I:\\n', I)\n",
    "print('M*I:\\n', np.dot(M, I))"
   ]
  },
  {
   "cell_type": "code",
   "execution_count": 20,
   "metadata": {},
   "outputs": [
    {
     "name": "stdout",
     "output_type": "stream",
     "text": [
      "Inv M:\n",
      " [[-1.57894737 -0.07894737  1.23684211  1.10526316]\n",
      " [-0.63157895 -0.13157895  0.39473684  0.84210526]\n",
      " [ 0.68421053  0.18421053 -0.55263158 -0.57894737]\n",
      " [ 0.52631579  0.02631579 -0.07894737 -0.36842105]]\n",
      "det of M:\n",
      " -38.000000000000014\n"
     ]
    }
   ],
   "source": [
    "#Compute the inverse of 𝑀.\n",
    "print('Inv M:\\n', inv(M))\n",
    "print(\"det of M:\\n\",det(M))"
   ]
  },
  {
   "cell_type": "code",
   "execution_count": 22,
   "metadata": {},
   "outputs": [
    {
     "name": "stdout",
     "output_type": "stream",
     "text": [
      "Condition number:\n",
      " 4.048917339522305\n",
      "Rank:\n",
      " 3\n",
      "Augmented matrix:\n",
      " [[1 1 0 1]\n",
      " [0 1 0 2]\n",
      " [1 0 1 1]]\n"
     ]
    }
   ],
   "source": [
    "A = np.array([[1,1,0],\n",
    "              [0,1,0],\n",
    "              [1,0,1]])\n",
    "\n",
    "print('Condition number:\\n', cond(A))\n",
    "print('Rank:\\n', matrix_rank(A))\n",
    "y = np.array([[1], [2], [1]])\n",
    "A_y = np.concatenate((A, y), axis = 1)\n",
    "print('Augmented matrix:\\n', A_y)"
   ]
  }
 ],
 "metadata": {
  "kernelspec": {
   "display_name": "Python 3",
   "language": "python",
   "name": "python3"
  },
  "language_info": {
   "codemirror_mode": {
    "name": "ipython",
    "version": 3
   },
   "file_extension": ".py",
   "mimetype": "text/x-python",
   "name": "python",
   "nbconvert_exporter": "python",
   "pygments_lexer": "ipython3",
   "version": "3.8.5"
  }
 },
 "nbformat": 4,
 "nbformat_minor": 4
}
