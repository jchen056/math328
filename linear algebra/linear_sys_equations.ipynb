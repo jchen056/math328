{
 "cells": [
  {
   "cell_type": "code",
   "execution_count": 1,
   "metadata": {},
   "outputs": [],
   "source": [
    "import numpy as np\n",
    "from scipy.linalg import lu\n",
    "from numpy.linalg import norm, det,inv\n",
    "from numpy.linalg import cond,matrix_rank\n",
    "import math"
   ]
  },
  {
   "cell_type": "markdown",
   "metadata": {},
   "source": [
    "# Vectors \n",
    "\n",
    "### vector norm\n",
    "\n",
    "1. **L2 norm**(Euclian length): $||v||_2=\\sqrt{\\sum_{i}^{}(v_i)^2}$\n",
    "1. **L1 norm**(Manhattan norm): $||v||_1=\\sum_{i}^{}|v_i|$\n",
    "1. **Lp norm**: $||p||_p=\\sqrt[p]{(\\sum_{i}^{}(v_i)^p)}$\n",
    "\n",
    "### dot product\n",
    "* **dot product** of two vectors is the sum of the product of the respective elements in each vector and is denoted by *.\n",
    "* d=$\\sum_{i=1}^{n} v_i*w_i$; dot product of v and w whose dimension is n\n",
    "* v*w=$||v||_2 ||w||_2 cos(\\theta)$\n",
    "\n",
    "### cross product\n",
    "* $vXw=||v||_2||w||_2 sin(\\theta)$, where $\\theta$ is the angle between v and w(can be computed from dot product) and n is a vector perpendicular to both v and w with unit length.\n",
    "* geometric interpretation of the cross product: a vector perpendicular to both v and w with length equal to the area enclosed by the parallelogram created by the two vectors.\n",
    "\n",
    "### linearly independent\n",
    "A set is called **linearly independent** if no object in the set can be written as a linear combination of the other objects in the set."
   ]
  },
  {
   "cell_type": "code",
   "execution_count": 2,
   "metadata": {},
   "outputs": [
    {
     "name": "stdout",
     "output_type": "stream",
     "text": [
      "(1, 5)\n",
      "(4, 1)\n"
     ]
    }
   ],
   "source": [
    "#row vector and column vector\n",
    "vector_row=np.array([[1,-5,3,2,4]])\n",
    "print(vector_row.shape)\n",
    "\n",
    "vector_col=np.array([[1],[2],[3],[4]])\n",
    "print(vector_col.shape)"
   ]
  },
  {
   "cell_type": "code",
   "execution_count": 3,
   "metadata": {},
   "outputs": [
    {
     "name": "stdout",
     "output_type": "stream",
     "text": [
      "[[ 1]\n",
      " [-5]\n",
      " [ 3]\n",
      " [ 2]\n",
      " [ 4]]\n",
      "L1 norm is 15.00\n",
      "L2 norm is 7.42\n",
      "Linf norm is 5.00\n"
     ]
    }
   ],
   "source": [
    "# transpose and norm\n",
    "new_vec=vector_row.T\n",
    "print(new_vec)\n",
    "\n",
    "n1=norm(new_vec,1)\n",
    "n2=norm(new_vec,2)\n",
    "ninf=norm(new_vec,np.inf)\n",
    "print('L1 norm is %.2f'%n1)\n",
    "print('L2 norm is %.2f'%n2)\n",
    "print('Linf norm is %.2f'%ninf)"
   ]
  },
  {
   "cell_type": "code",
   "execution_count": 25,
   "metadata": {},
   "outputs": [
    {
     "name": "stdout",
     "output_type": "stream",
     "text": [
      "[[0.97992471]]\n",
      "cross product [[  93 -114   32]]\n"
     ]
    }
   ],
   "source": [
    "v=np.array([[10,9,3]])\n",
    "w=np.array([[2,5,12]])\n",
    "theta=np.arccos(np.dot(v,w.T)/(norm(v)*norm(w)))\n",
    "print(theta)\n",
    "\n",
    "print(\"cross product\",np.cross(v,w))"
   ]
  },
  {
   "cell_type": "markdown",
   "metadata": {},
   "source": [
    "# Matrices\n",
    "### matrix norm\n",
    "* $||M||_p=\\sqrt[p]{\\sum_{i}^{m}\\sum_{j}^{n}|a_{ij}|^p}$ M is a mXn matrix\n",
    "* calculate matrix norm using **norm** function in Numpy\n",
    "\n",
    "### determinant\n",
    "* determinant **det(M)** is an important property of square matrices\n",
    "* identiy matrix I has ones on the diagonal and zeros elsewhere\n",
    "\n",
    "### inverse\n",
    "1. inverse of a square matrix M: M*N=I, where N=$M^{-1}$ \n",
    "1. matrices having an inverse are called **non-singular**; matrices without inverses are **singular**.\n",
    "1. how to determine whether a matrix has an inverse: find its det\n",
    "* if det is 0, singular; no inverse\n",
    "* if det is not 0, nonsingular; has inverse\n",
    "\n",
    "### ill-conditioned and condition number\n",
    "* a **ill-conditioned** matrix is almost singular\n",
    "* **condition number** is a measure of how **ill-conditioned** a matirx is. The higher the conditon number, the closer the matrix is to being singular.\n",
    "\n",
    "### Rank\n",
    "* rank(A): the number of linearly independent columns/rows in A. The number of linearly independent rows=number of linearly independent columns.\n",
    "* *full rank* if rank(A)=min(m,n)"
   ]
  },
  {
   "cell_type": "code",
   "execution_count": 27,
   "metadata": {},
   "outputs": [
    {
     "name": "stdout",
     "output_type": "stream",
     "text": [
      "[[1 7]\n",
      " [2 3]\n",
      " [5 0]]\n",
      "[[2 6 3 1]\n",
      " [1 2 3 4]]\n",
      "The product of two matrices:\n",
      " [[ 9 20 24 29]\n",
      " [ 7 18 15 14]\n",
      " [10 30 15  5]]\n"
     ]
    }
   ],
   "source": [
    "#find the dot product of two matrices\n",
    "P=np.array([[1,7],[2,3],[5,0]])\n",
    "Q=np.array([[2,6,3,1],[1,2,3,4]])\n",
    "print(P)\n",
    "print(Q)\n",
    "print(\"The product of two matrices:\\n\",np.dot(P,Q))"
   ]
  },
  {
   "cell_type": "code",
   "execution_count": 32,
   "metadata": {},
   "outputs": [
    {
     "name": "stdout",
     "output_type": "stream",
     "text": [
      "M:\n",
      " [[0 2 1 3]\n",
      " [3 2 8 1]\n",
      " [1 0 0 3]\n",
      " [0 3 2 1]]\n",
      "Determinant of M:\n",
      " -38.000000000000014\n",
      "M has an inverse b/c det is not zero\n",
      "Inv M:\n",
      " [[-1.57894737 -0.07894737  1.23684211  1.10526316]\n",
      " [-0.63157895 -0.13157895  0.39473684  0.84210526]\n",
      " [ 0.68421053  0.18421053 -0.55263158 -0.57894737]\n",
      " [ 0.52631579  0.02631579 -0.07894737 -0.36842105]]\n"
     ]
    }
   ],
   "source": [
    "# finding the det and inverse\n",
    "M=np.array([[0,2,1,3],\n",
    "            [3,2,8,1],\n",
    "            [1,0,0,3],\n",
    "            [0,3,2,1]])\n",
    "print(\"M:\\n\",M)\n",
    "print(\"Determinant of M:\\n\",det(M))\n",
    "print(\"M has an inverse b/c det is not zero\")\n",
    "print(\"Inv M:\\n\",inv(M))"
   ]
  },
  {
   "cell_type": "code",
   "execution_count": 71,
   "metadata": {},
   "outputs": [
    {
     "name": "stdout",
     "output_type": "stream",
     "text": [
      "det(A): -6.999999999999998\n",
      "condition number: 9.465784928823194\n",
      "rank: 3\n"
     ]
    }
   ],
   "source": [
    "A=np.array([[-8, 0, -1], [0, 1, 0], [1, 0, 1]])\n",
    "print(\"det(A):\",det(A))\n",
    "print(\"condition number:\",cond(A))# A is close to being singular but not singular\n",
    "print(\"rank:\",matrix_rank(A))"
   ]
  },
  {
   "cell_type": "markdown",
   "metadata": {},
   "source": [
    "# Systems of Linear Equations\n",
    "1. Ax=y\n",
    "1. three distinct solution possibilities for x\n",
    "* no sol for x\n",
    "* one, unique sol for x\n",
    "* inf number of sol for x\n",
    "1. **LU decomposition** method to solve linear systems of linear equations\n",
    "* turn A into multiple of two matrices L and U, where L is lower triangular and U is an upper triangular\n",
    "2. Gaussian elimiation followed by forward substitution followed by backward substitution"
   ]
  },
  {
   "cell_type": "code",
   "execution_count": 2,
   "metadata": {},
   "outputs": [
    {
     "name": "stdout",
     "output_type": "stream",
     "text": [
      "[0.06666667 0.13333333]\n"
     ]
    }
   ],
   "source": [
    "#Use numpy.linalg.solve to solve the following equations.\n",
    "# 4𝑥1+3𝑥2−5𝑥3=2\n",
    "# −2𝑥1−4𝑥2+5𝑥3=5\n",
    "# 8𝑥1+8𝑥2=−3\n",
    "A = np.array([[4, 3, -5], \n",
    "              [-2, -4, 5], \n",
    "              [8, 8, 0]])\n",
    "b = np.array([2, 5, -3])\n",
    "x = np.linalg.solve(np.array([[7,4],[3,6]]), np.array([1,1]))\n",
    "print(x)"
   ]
  },
  {
   "cell_type": "code",
   "execution_count": 3,
   "metadata": {},
   "outputs": [
    {
     "name": "stdout",
     "output_type": "stream",
     "text": [
      "[ 2.20833333 -2.58333333 -0.18333333]\n"
     ]
    }
   ],
   "source": [
    "#Under the hood, the solver is actually doing a LU decomposition to get the results. \n",
    "A_inv = np.linalg.inv(A)\n",
    "x = np.dot(A_inv, y)\n",
    "print(x)"
   ]
  },
  {
   "cell_type": "code",
   "execution_count": 62,
   "metadata": {},
   "outputs": [
    {
     "name": "stdout",
     "output_type": "stream",
     "text": [
      "P:\n",
      " [[0. 0. 1.]\n",
      " [0. 1. 0.]\n",
      " [1. 0. 0.]]\n",
      "L:\n",
      " [[ 1.    0.    0.  ]\n",
      " [-0.25  1.    0.  ]\n",
      " [ 0.5   0.5   1.  ]]\n",
      "U:\n",
      " [[ 8.   8.   0. ]\n",
      " [ 0.  -2.   5. ]\n",
      " [ 0.   0.  -7.5]]\n",
      "LU:\n",
      " [[ 8.  8.  0.]\n",
      " [-2. -4.  5.]\n",
      " [ 4.  3. -5.]]\n"
     ]
    }
   ],
   "source": [
    "from scipy.linalg import lu\n",
    "P, L, U = lu(A)\n",
    "print('P:\\n', P)\n",
    "print('L:\\n', L)\n",
    "print('U:\\n', U)\n",
    "print('LU:\\n',np.dot(L, U))"
   ]
  },
  {
   "cell_type": "code",
   "execution_count": 64,
   "metadata": {},
   "outputs": [
    {
     "data": {
      "text/plain": [
       "array([3., 2., 1.])"
      ]
     },
     "execution_count": 64,
     "metadata": {},
     "output_type": "execute_result"
    }
   ],
   "source": [
    "P@np.array([1,2,3])"
   ]
  },
  {
   "cell_type": "markdown",
   "metadata": {},
   "source": [
    "# codes for 328"
   ]
  },
  {
   "cell_type": "code",
   "execution_count": 44,
   "metadata": {},
   "outputs": [
    {
     "name": "stdout",
     "output_type": "stream",
     "text": [
      "[ 0.66666667  1.         -2.        ]\n"
     ]
    }
   ],
   "source": [
    "# backward substitution\n",
    "U=np.array([[3,2,1],[0,2,-2],[0,0,5]])\n",
    "n=len(U)\n",
    "b=np.array([2,6,-10])\n",
    "x=np.zeros(n)\n",
    "\n",
    "for i in range(n-1,-1,-1):\n",
    "    x[i]=b[i]\n",
    "    for j in range(i+1,n):\n",
    "        x[i]-=U[i,j]*x[j]\n",
    "    x[i]/=U[i,i]\n",
    "print(x)"
   ]
  },
  {
   "cell_type": "code",
   "execution_count": 39,
   "metadata": {},
   "outputs": [],
   "source": [
    "def backward_sub(U,c):\n",
    "    n=len(U)\n",
    "    x=np.zeros(n)\n",
    "    for i in range(n-1,-1,-1):\n",
    "        x[i]=c[i]\n",
    "        for j in range(i+1,n):\n",
    "            x[i]-=U[i,j]*x[j]\n",
    "        x[i]=x[i]/U[i,i]\n",
    "    return x\n",
    "# backward_sub(np.array([[2,1,0],\n",
    "#                       [0,1.5,1],\n",
    "#                       [0,0,4/3]],dtype='float'),np.array([0,-3,0]))\n",
    "        "
   ]
  },
  {
   "cell_type": "code",
   "execution_count": 66,
   "metadata": {},
   "outputs": [
    {
     "data": {
      "text/plain": [
       "array([0, 0, 1])"
      ]
     },
     "execution_count": 66,
     "metadata": {},
     "output_type": "execute_result"
    }
   ],
   "source": [
    "def forward_sub(L,b):\n",
    "    n=len(L)\n",
    "    \n",
    "    b[0]=b[0]/L[0,0]\n",
    "    for i in range(1,n):#row values\n",
    "        for j in range(i):\n",
    "            b[i]=b[i]-L[i,j]*b[i-1]\n",
    "        b[i]=b[i]/L[i,i]\n",
    "    return b#our c\n",
    "forward_sub(np.array([[6,3,4],\n",
    "                     [0,-0.5,0],[0,0,3]],dtype='float'),np.array([1,0,3]))\n",
    "\n",
    "# def lu_solve(A,b):\n",
    "#     P,L,U=lu(A)\n",
    "#     b=P@b\n",
    "#     c=forward_sub(L,b)\n",
    "#     x=backward_sub(U,c)\n",
    "#     return c\n",
    "# lu_solve(np.array([[3,1,2],[6,3,4],[3,1,5]],dtype='float'),np.array([0,1,3]))\n",
    "    "
   ]
  },
  {
   "cell_type": "code",
   "execution_count": 2,
   "metadata": {},
   "outputs": [
    {
     "name": "stdout",
     "output_type": "stream",
     "text": [
      "[[ 1  2  1]\n",
      " [ 0  2 -2]\n",
      " [ 0  0  5]]\n",
      "[[1. 0. 0.]\n",
      " [3. 1. 0.]\n",
      " [0. 2. 1.]]\n"
     ]
    }
   ],
   "source": [
    "#LU decomposition\n",
    "A=np.array([[1,2,1],\n",
    "            [3,8,1],\n",
    "           [0,4,1]])\n",
    "n=len(A)\n",
    "L=np.identity(n)\n",
    "for j in range(n-1):\n",
    "    for i in range(j+1,n):\n",
    "        L[i,j]=A[j+1,j]/A[j,j] #multiplier=L[i,j]\n",
    "        A[i,:]=A[i,:]-L[i,j]*A[j,:]#subtract multiplier\n",
    "print(A)\n",
    "print(L)"
   ]
  },
  {
   "cell_type": "code",
   "execution_count": 52,
   "metadata": {},
   "outputs": [
    {
     "data": {
      "text/plain": [
       "(array([[1. , 0. ],\n",
       "        [2.5, 1. ]]),\n",
       " array([[ 2. , -3. ],\n",
       "        [ 0. , 13.5]]))"
      ]
     },
     "execution_count": 52,
     "metadata": {},
     "output_type": "execute_result"
    }
   ],
   "source": [
    "def LU_dec(A):#The elements of A has dtype of float\n",
    "    m,n=A.shape\n",
    "    if m!=n:\n",
    "        print(\"A is not a square; LU only applies to square matrix\")\n",
    "        return\n",
    "    elif np.linalg.det(A)==0:\n",
    "        print(\"A is singular; LU only applied to non-singulat matrix\")\n",
    "        return\n",
    "    else:\n",
    "        L=np.identity(n)\n",
    "        for j in range(n-1):#loop each column from j=0 to j=n-2\n",
    "              for i in range(j+1,n):#loop rows\n",
    "                  L[i,j]=(A[j+1,j]/A[j,j])#multiplier\n",
    "                  A[i,:]=A[i,:]-L[i,j]*A[j,:]\n",
    "        return L,A#return L,A\n",
    "LU_dec(np.array([[2,-3],\n",
    "                [5,6]],dtype=\"float\"))\n",
    "\n",
    "\n",
    "\n",
    "# def lu(A):\n",
    "    \n",
    "#     #Get the number of rows\n",
    "#     n = A.shape[0]\n",
    "    \n",
    "#     U = A.copy()\n",
    "#     L = np.eye(n, dtype=np.double)\n",
    "    \n",
    "#     #Loop over rows\n",
    "#     for i in range(n):\n",
    "            \n",
    "#         #Eliminate entries below i with row operations \n",
    "#         #on U and reverse the row operations to \n",
    "#         #manipulate L\n",
    "#         factor = U[i+1:, i] / U[i, i]\n",
    "#         L[i+1:, i] = factor\n",
    "#         U[i+1:] -= factor[:, np.newaxis] * U[i]\n",
    "        \n",
    "#     return L@U\n",
    "\n",
    "# lu(np.array([[2,-3],\n",
    "#              [5,6]],dtype='float'))\n",
    "              "
   ]
  },
  {
   "cell_type": "code",
   "execution_count": 2,
   "metadata": {},
   "outputs": [
    {
     "name": "stdout",
     "output_type": "stream",
     "text": [
      "condition number for A: 40002.00007491187\n",
      "condition number for B: 2.6183852736548263\n"
     ]
    }
   ],
   "source": [
    "A=np.array([[1,1],[1,1.0001]])\n",
    "B=np.array([[0.0001,1],[1,1]])\n",
    "print(\"condition number for A:\",cond(A))\n",
    "print(\"condition number for B:\",cond(B))"
   ]
  },
  {
   "cell_type": "code",
   "execution_count": 3,
   "metadata": {},
   "outputs": [
    {
     "data": {
      "text/plain": [
       "50001.0000298737"
      ]
     },
     "execution_count": 3,
     "metadata": {},
     "output_type": "execute_result"
    }
   ],
   "source": [
    "cond(np.array([[1,2],[1.0001,2]]))"
   ]
  },
  {
   "cell_type": "code",
   "execution_count": 8,
   "metadata": {},
   "outputs": [
    {
     "data": {
      "text/plain": [
       "3.414213562373095"
      ]
     },
     "execution_count": 8,
     "metadata": {},
     "output_type": "execute_result"
    }
   ],
   "source": [
    "math.sqrt(6+4*math.sqrt(2))"
   ]
  },
  {
   "cell_type": "code",
   "execution_count": null,
   "metadata": {},
   "outputs": [],
   "source": []
  }
 ],
 "metadata": {
  "kernelspec": {
   "display_name": "Python 3 (ipykernel)",
   "language": "python",
   "name": "python3"
  },
  "language_info": {
   "codemirror_mode": {
    "name": "ipython",
    "version": 3
   },
   "file_extension": ".py",
   "mimetype": "text/x-python",
   "name": "python",
   "nbconvert_exporter": "python",
   "pygments_lexer": "ipython3",
   "version": "3.9.12"
  }
 },
 "nbformat": 4,
 "nbformat_minor": 4
}
