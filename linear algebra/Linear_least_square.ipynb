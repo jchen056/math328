{
 "cells": [
  {
   "cell_type": "code",
   "execution_count": 1,
   "id": "8eb2f0ad",
   "metadata": {},
   "outputs": [],
   "source": [
    "import numpy as np\n",
    "import math"
   ]
  },
  {
   "cell_type": "markdown",
   "id": "2450f4e9",
   "metadata": {},
   "source": [
    "## projections"
   ]
  },
  {
   "cell_type": "code",
   "execution_count": 3,
   "id": "22432ea8",
   "metadata": {},
   "outputs": [
    {
     "data": {
      "text/plain": [
       "array([1.66666667, 1.66666667, 1.66666667])"
      ]
     },
     "execution_count": 3,
     "metadata": {},
     "output_type": "execute_result"
    }
   ],
   "source": [
    "#projection onto a vector\n",
    "def proj_b_vec(b,a):\n",
    "#     proj=np.dot(b,a)/(np.dot(a,a))*a\n",
    "    proj=(a.T@b)/(a.T@a)*a\n",
    "    return proj\n",
    "\n",
    "proj_b_vec(np.array([1,2,2]),np.array([1,1,1]))"
   ]
  },
  {
   "cell_type": "code",
   "execution_count": 4,
   "id": "46b6d091",
   "metadata": {},
   "outputs": [
    {
     "data": {
      "text/plain": [
       "array([0.33333333, 0.33333333, 0.66666667])"
      ]
     },
     "execution_count": 4,
     "metadata": {},
     "output_type": "execute_result"
    }
   ],
   "source": [
    "#Ax=b => A.T@Ax=A.T@b => x=(A.T@A)^(-1)@A.T@b => Ax=A@#Ax=b => A.T@Ax=A.T@b \n",
    "#x=(A.T@A)^(-1)@A.T@b => Ax=A@(A.T@A)^(-1)@A.T@b\n",
    "\n",
    "def proj_b_plane(b,A):\n",
    "    proj=A@(np.linalg.inv(A.T@A))@A.T@b\n",
    "    return proj\n",
    "proj_b_plane(np.array([1,1,0]),\n",
    "             np.array([[1,0],[0,1],[1,1]]))\n"
   ]
  },
  {
   "cell_type": "code",
   "execution_count": 9,
   "id": "268da5d9",
   "metadata": {},
   "outputs": [
    {
     "name": "stdout",
     "output_type": "stream",
     "text": [
      "[[-0.33333333  0.93333333]\n",
      " [-0.66666667 -0.33333333]\n",
      " [-0.66666667 -0.13333333]] \n",
      " [[-3. -2.]\n",
      " [ 0. -5.]]\n"
     ]
    }
   ],
   "source": [
    "q,r=np.linalg.qr(np.array([[1,-4],\n",
    "                          [2,3],\n",
    "                           [2,2]]))\n",
    "print(q,\"\\n\",r)"
   ]
  },
  {
   "cell_type": "markdown",
   "id": "e5d7150e",
   "metadata": {},
   "source": [
    "# Chapter 6: Linear Least Squares Problems\n",
    "solve Ax=b\n",
    "\n",
    "Since there is no solution, we can try to minize $||b-Ax||_2$\n",
    "### Normal equations\n",
    "$A^T Ax=A^Tb$\n",
    "\n",
    "### QR factorization: Gram-Schmidt algorithm\n",
    "A matrix Q is orthogonal if its columns are orthonormal or if *Q.T@Q=I*.\n",
    "### QR factorization: Householder reflectors"
   ]
  },
  {
   "cell_type": "markdown",
   "id": "33bf2479",
   "metadata": {},
   "source": [
    "## Normal equations\n",
    "\n",
    "### Library used\n",
    "1. np.linalg.lstsq: https://numpy.org/doc/stable/reference/generated/numpy.linalg.lstsq.html\n",
    "2. np.linalg.cholesky: https://numpy.org/doc/stable/reference/generated/numpy.linalg.cholesky.html\n",
    "* cholesky returns the lower-triangular Cholesky factor of a\n",
    "3. np.linalg.solve:https://numpy.org/doc/stable/reference/generated/numpy.linalg.solve.html\n",
    "\n",
    "### Pros and cons\n",
    "1. fast and straightforward\n",
    "2. not as stable as it can be in general: if you have large condition numbers\n"
   ]
  },
  {
   "cell_type": "code",
   "execution_count": 2,
   "id": "360a70e4",
   "metadata": {},
   "outputs": [
    {
     "name": "stdout",
     "output_type": "stream",
     "text": [
      "Estimate of x: [ 0.34722617  0.39900427 -0.7859175 ]\n",
      "Residual r=b-Ax: [ 4.43869132  0.03812233  0.49502134 -1.89302987  1.31095306]\n",
      "L2 norm of A.T@r: 1.890380887718447e-14\n",
      "Residual L2 norm: 5.025001503860272\n"
     ]
    }
   ],
   "source": [
    "#using np.linalg.lstsq\n",
    "def normal_equations1(A,b):\n",
    "    x=np.linalg.lstsq(A,b,rcond=None)\n",
    "    print(\"Estimate of x:\",x[0])\n",
    "    \n",
    "    r=b-A@x[0]#compute residual, x[0] is our estimate of x to Ax=b\n",
    "    print(\"Residual r=b-Ax:\",r)\n",
    "    #Are r and A.T perpendicular? They should be perpendicular\n",
    "    print(\"L2 norm of A.T@r:\",np.linalg.norm(A.T@r))\n",
    "    print(\"Residual L2 norm:\",math.sqrt(x[1]))#np.linalg.lstsq returns sums of squared residuals\n",
    "    \n",
    "\n",
    "A=np.array([[1,0,1],\n",
    "           [2,3,5],\n",
    "           [5,3,-2],\n",
    "           [3,5,4],\n",
    "           [-1,6,3]])\n",
    "b=np.array([4,-2,5,-2,1])\n",
    "normal_equations1(A,b)"
   ]
  },
  {
   "cell_type": "code",
   "execution_count": 16,
   "id": "5571820c",
   "metadata": {},
   "outputs": [
    {
     "name": "stdout",
     "output_type": "stream",
     "text": [
      "Estimate of x: [1.21962134 0.62089501]\n",
      "Residual r=b-Ax: [-0.00051635 -0.00247849  0.00359725 -0.00032702  0.00182444 -0.00209983]\n",
      "L2 norm of A.T@r: 8.022137326523255e-15\n",
      "Residual L2 norm: 0.005214833866456243\n"
     ]
    }
   ],
   "source": [
    "data=np.array([[1,1],\n",
    "               [1.1,1],\n",
    "               [1.3,1],\n",
    "              [1.5,1],\n",
    "               [1.9,1],\n",
    "               [2.1,1]\n",
    "              ])\n",
    "y=np.array([1.84,1.96,2.21,2.45,2.94,3.18])\n",
    "normal_equations1(data,y)"
   ]
  },
  {
   "cell_type": "code",
   "execution_count": 17,
   "id": "92e9b8a8",
   "metadata": {},
   "outputs": [
    {
     "name": "stdout",
     "output_type": "stream",
     "text": [
      "Estimate of x: [-4. -4.]\n",
      "Residual r=b-Ax: [ 2. -2. -2.]\n",
      "L2 norm of A.T@r: 7.640399661428378e-15\n",
      "Residual L2 norm: 3.464101615137754\n"
     ]
    }
   ],
   "source": [
    "normal_equations1(np.array([[1,1],\n",
    "                            [1,0],\n",
    "                            [0,1]]),\n",
    "                  np.array([-6,-6,-6]))"
   ]
  },
  {
   "cell_type": "code",
   "execution_count": 18,
   "id": "62a0d31f",
   "metadata": {},
   "outputs": [
    {
     "name": "stdout",
     "output_type": "stream",
     "text": [
      "Estimate of x: [12. -3.]\n",
      "Residual r=b-Ax: [  4. -12.   6.]\n",
      "L2 norm of A.T@r: 3.243687902600336e-13\n",
      "Residual L2 norm: 14.000000000000004\n"
     ]
    }
   ],
   "source": [
    "normal_equations1(np.array([[6,9],\n",
    "                            [3,8],\n",
    "                            [2,10]]),\n",
    "                  np.array([49,0,0]))"
   ]
  },
  {
   "cell_type": "code",
   "execution_count": 11,
   "id": "9a790f30",
   "metadata": {},
   "outputs": [
    {
     "data": {
      "text/plain": [
       "14.0"
      ]
     },
     "execution_count": 11,
     "metadata": {},
     "output_type": "execute_result"
    }
   ],
   "source": [
    "math.sqrt(4**2+12**2+6**2)\n",
    "np.linalg.norm(np.array([4,-12,6]))"
   ]
  },
  {
   "cell_type": "code",
   "execution_count": 8,
   "id": "2240dd86",
   "metadata": {},
   "outputs": [
    {
     "data": {
      "text/plain": [
       "array([45, 12, -6])"
      ]
     },
     "execution_count": 8,
     "metadata": {},
     "output_type": "execute_result"
    }
   ],
   "source": [
    "np.array([[6,9],[3,8],[2,10]])@np.array([12,-3])"
   ]
  },
  {
   "cell_type": "code",
   "execution_count": 3,
   "id": "e0b0420a",
   "metadata": {},
   "outputs": [
    {
     "name": "stdout",
     "output_type": "stream",
     "text": [
      "[ 0.34722617  0.39900427 -0.7859175 ]\n",
      "Residual r=b-A@x: [ 4.43869132  0.03812233  0.49502134 -1.89302987  1.31095306]\n",
      "A.T @ r: [ 1.77635684e-15  0.00000000e+00 -4.44089210e-15]\n"
     ]
    }
   ],
   "source": [
    "#using the definition A.T Ax=A.T b\n",
    "\n",
    "def normal_eqn2(A,b):\n",
    "    B=A.T@A\n",
    "    y=A.T@b\n",
    "    \n",
    "    #B is symmetric, pos def, where Cholesky factorization comes in\n",
    "    G=np.linalg.cholesky(B)\n",
    "    \n",
    "    #Bx=y => G G.T x=y; using forward substitution and backward substitution\n",
    "    z=np.linalg.solve(G,y)\n",
    "    x=np.linalg.solve(G.T,z)\n",
    "    print(x)\n",
    "    r=b-A@x\n",
    "    print(\"Residual r=b-A@x:\",r)\n",
    "    print(\"A.T @ r:\",A.T@r)\n",
    "normal_eqn2(A,b)"
   ]
  },
  {
   "cell_type": "markdown",
   "id": "f3433a8f",
   "metadata": {},
   "source": [
    "## QR factorization\n",
    "more computational expensive than normal equations but is more robust\n",
    "1. steps\n",
    "* Ax=b\n",
    "* QRx=b\n",
    "* (Q.T@Q)@Rx=Q.T@b\n",
    "* Rx=Q.T@b\n",
    "2. libraries\n",
    "np.linalg.qr: https://numpy.org/doc/stable/reference/generated/numpy.linalg.qr.html"
   ]
  },
  {
   "cell_type": "code",
   "execution_count": 19,
   "id": "f6187a81",
   "metadata": {},
   "outputs": [
    {
     "name": "stdout",
     "output_type": "stream",
     "text": [
      "[ 0.34722617  0.39900427 -0.7859175 ]\n"
     ]
    }
   ],
   "source": [
    "def QR_fac(A,b):\n",
    "    Q,R=np.linalg.qr(A)\n",
    "    x=np.linalg.solve(R,Q.T@b)\n",
    "    print(x)\n",
    "QR_fac(A,b)"
   ]
  },
  {
   "cell_type": "code",
   "execution_count": 4,
   "id": "919b506b",
   "metadata": {},
   "outputs": [
    {
     "data": {
      "text/plain": [
       "array([[ 0.33333333, -0.93333333],\n",
       "       [ 0.66666667,  0.33333333],\n",
       "       [ 0.66666667,  0.13333333]])"
      ]
     },
     "execution_count": 4,
     "metadata": {},
     "output_type": "execute_result"
    }
   ],
   "source": [
    "def gram_schmidt(X):\n",
    "    O = np.zeros(X.shape)\n",
    "    for i in range(X.shape[1]):\n",
    "        # orthogonalization\n",
    "        vector = X[:, i]\n",
    "        space = O[:, :i]\n",
    "        projection = vector @ space\n",
    "        vector = vector - np.sum(projection * space, axis=1)\n",
    "        # normalization\n",
    "        norm = np.sqrt(vector @ vector)\n",
    "        vector /= abs(norm) < 1e-8 and 1 or norm\n",
    "        \n",
    "        O[:, i] = vector\n",
    "    return O\n",
    "\n",
    "gram_schmidt(np.array([[1,-4],\n",
    "                          [2,3],\n",
    "                           [2,2]]))"
   ]
  },
  {
   "cell_type": "code",
   "execution_count": 12,
   "id": "3192984a",
   "metadata": {},
   "outputs": [],
   "source": [
    "def QR_Decomposition(A):\n",
    "    n, m = A.shape # get the shape of A\n",
    "\n",
    "    Q = np.empty((n, n)) # initialize matrix Q\n",
    "    u = np.empty((n, n)) # initialize matrix u\n",
    "\n",
    "    u[:, 0] = A[:, 0]\n",
    "    Q[:, 0] = u[:, 0] / np.linalg.norm(u[:, 0])\n",
    "\n",
    "    for i in range(1, n):\n",
    "\n",
    "        u[:, i] = A[:, i]\n",
    "        for j in range(i):\n",
    "            u[:, i] -= (A[:, i] @ Q[:, j]) * Q[:, j] # get each u vector\n",
    "\n",
    "        Q[:, i] = u[:, i] / np.linalg.norm(u[:, i]) # compute each e vetor\n",
    "\n",
    "    R = np.zeros((n, m))\n",
    "    for i in range(n):\n",
    "        for j in range(i, m):\n",
    "            R[i, j] = A[:, j] @ Q[:, i]\n",
    "\n",
    "    return Q, R"
   ]
  },
  {
   "cell_type": "code",
   "execution_count": 14,
   "id": "d91ad99f",
   "metadata": {},
   "outputs": [
    {
     "data": {
      "text/plain": [
       "(array([[ 5.77350269e-01, -7.07106781e-01,  4.08248290e-01],\n",
       "        [ 5.77350269e-01, -3.14018492e-16, -8.16496581e-01],\n",
       "        [ 5.77350269e-01,  7.07106781e-01,  4.08248290e-01]]),\n",
       " array([[1.73205081, 3.46410162, 3.52183664],\n",
       "        [0.        , 1.41421356, 6.43467171],\n",
       "        [0.        , 0.        , 6.16454919]]))"
      ]
     },
     "execution_count": 14,
     "metadata": {},
     "output_type": "execute_result"
    }
   ],
   "source": [
    "QR_Decomposition(np.array([[1,1,0],\n",
    "                          [1,2,-3],\n",
    "                           [1,3,9.1]]))"
   ]
  },
  {
   "cell_type": "code",
   "execution_count": 19,
   "id": "ad13650f",
   "metadata": {},
   "outputs": [
    {
     "data": {
      "text/plain": [
       "array([[ 1. ,  1. ,  0. ],\n",
       "       [ 1. ,  2. , -3. ],\n",
       "       [ 1. ,  3. ,  9.1]])"
      ]
     },
     "execution_count": 19,
     "metadata": {},
     "output_type": "execute_result"
    }
   ],
   "source": [
    "q,r=np.linalg.qr(np.array([[1,1,0],\n",
    "                          [1,2,-3],\n",
    "                           [1,3,9.1]]))\n",
    "q@r"
   ]
  },
  {
   "cell_type": "code",
   "execution_count": null,
   "id": "f82a4b92",
   "metadata": {},
   "outputs": [],
   "source": []
  }
 ],
 "metadata": {
  "kernelspec": {
   "display_name": "Python 3 (ipykernel)",
   "language": "python",
   "name": "python3"
  },
  "language_info": {
   "codemirror_mode": {
    "name": "ipython",
    "version": 3
   },
   "file_extension": ".py",
   "mimetype": "text/x-python",
   "name": "python",
   "nbconvert_exporter": "python",
   "pygments_lexer": "ipython3",
   "version": "3.9.12"
  }
 },
 "nbformat": 4,
 "nbformat_minor": 5
}
