{
 "cells": [
  {
   "cell_type": "code",
   "execution_count": 1,
   "metadata": {},
   "outputs": [],
   "source": [
    "import numpy as np\n",
    "import matplotlib.pyplot as plt \n",
    "import pandas as pd\n",
    "import math "
   ]
  },
  {
   "cell_type": "markdown",
   "metadata": {},
   "source": [
    "construct a seq of Euler approx to the function y(t) that satisfies the conditions\n",
    "$y'=\\frac{1}{1+t^2}$ and y(0)=0\n",
    "\n",
    "Euler, RK2\n",
    "$y(t)=\\int \\frac{1}{1+t^2} dx$ from x=0 to x=t(Riemann sums, trapezoid, Simpson's) y(t)=arctan(t)\n",
    "\n",
    "estimate y(1)\n",
    "\n",
    "\n",
    "1. Euler method\n",
    "2. Improved Euler(RK2)\n",
    "3. RK4 \n",
    "$y_{n+1}=y_n+\\frac{1}{6}*(k_1+2k_2+2k_3+k_4)h$\n",
    "\n",
    "$k_1=f(t_n,y_n)$\n",
    "\n",
    "$k_2=f(t_n+\\frac{h}{2},y_n+h\\frac{k_1}{2})$"
   ]
  },
  {
   "cell_type": "code",
   "execution_count": 3,
   "metadata": {},
   "outputs": [],
   "source": [
    "#x0,y0 are the initial conditions\n",
    "#dx is the step size you want to take\n",
    "#x is the point where you want to get an estimation\n",
    "def Euler_method(x0,y0,dx,x):\n",
    "    n=int((x-x0)/dx)#the number of steps you need to take for your approx\n",
    "    for i in range(n):\n",
    "        slope=lambda x,y: 4/(1+x**2) #modify the code to reflect the derivative(slope)\n",
    "        dy=slope(x0,y0)*dx\n",
    "        y0+=dy#update y values\n",
    "        x0+=dx#update x values\n",
    "    print(str(x0),str(round(y0,3)))"
   ]
  },
  {
   "cell_type": "code",
   "execution_count": 4,
   "metadata": {},
   "outputs": [
    {
     "name": "stdout",
     "output_type": "stream",
     "text": [
      "1.0 3.6\n"
     ]
    }
   ],
   "source": [
    "Euler_method(0,0,0.5,1)"
   ]
  },
  {
   "cell_type": "code",
   "execution_count": 13,
   "metadata": {},
   "outputs": [],
   "source": [
    "#Runge-Kutta 2, RK2, Heun method\n",
    "def Euler_improved(x0,y0,dx,x):\n",
    "    slope=lambda x,y:1/(1+y*y)#modify the derivative formula \n",
    "    \n",
    "    n=int((x-x0)/dx)#the number of steps you need to take for your approx\n",
    "    for i in range(n):\n",
    "        y_next=y0+dx*slope(x0,y0)#find our next possible y value using Euler's method\n",
    "        y0+=dx/2*(slope(x0,y0)+slope(x0+dx,y_next))\n",
    "        x0+=dx\n",
    "    print(str(x0),str(round(y0,3)))"
   ]
  },
  {
   "cell_type": "code",
   "execution_count": 19,
   "metadata": {},
   "outputs": [],
   "source": [
    "#RK4\n",
    "def RK4(x0,y0,dx,x):\n",
    "    slope=lambda x,y:1/(1+y*y)#modify the derivative formula \n",
    "    \n",
    "    n=int((x-x0)/dx)#the number of steps you need to take for your approx\n",
    "    for i in range(n):\n",
    "        k1=slope(x0,y0)\n",
    "        k2=slope(x0+dx/2,y0+dx*k1/2)\n",
    "        k3=slope(x0+dx/2,y0+dx*k2/2)\n",
    "        k4=slope(x0+dx,y0+dx*k3)\n",
    "        y0+=1/6*(k1+2*k2+2*k3+k4)*dx\n",
    "        x0+=dx\n",
    "    print(str(x0),str(round(y0,4)))\n",
    "    "
   ]
  },
  {
   "cell_type": "markdown",
   "metadata": {},
   "source": [
    "Let us dedicate some time for taylor series"
   ]
  },
  {
   "cell_type": "markdown",
   "metadata": {},
   "source": [
    "approx f(h)=$\\sin h$ \n",
    "given x0=0\n",
    "using the algorithm to approx $P_4 (h)$ (Taylor approx)"
   ]
  },
  {
   "cell_type": "code",
   "execution_count": null,
   "metadata": {},
   "outputs": [],
   "source": []
  }
 ],
 "metadata": {
  "kernelspec": {
   "display_name": "Python 3",
   "language": "python",
   "name": "python3"
  },
  "language_info": {
   "codemirror_mode": {
    "name": "ipython",
    "version": 3
   },
   "file_extension": ".py",
   "mimetype": "text/x-python",
   "name": "python",
   "nbconvert_exporter": "python",
   "pygments_lexer": "ipython3",
   "version": "3.8.5"
  }
 },
 "nbformat": 4,
 "nbformat_minor": 4
}
