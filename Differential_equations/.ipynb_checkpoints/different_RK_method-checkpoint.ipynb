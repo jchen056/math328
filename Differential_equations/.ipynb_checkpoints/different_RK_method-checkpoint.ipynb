{
 "cells": [
  {
   "cell_type": "code",
   "execution_count": 19,
   "metadata": {},
   "outputs": [],
   "source": [
    "import numpy as np\n",
    "import matplotlib.pyplot as plt \n",
    "import pandas as pd\n",
    "import math \n",
    "\n",
    "from scipy.integrate import odeint#pretty classic, generic interface class to solve an equation system y'(t)=f(t,y)\n",
    "from scipy.integrate import solve_ivp#more customizable"
   ]
  },
  {
   "cell_type": "markdown",
   "metadata": {},
   "source": [
    "### Solving Differential euqations using Python solvers\n",
    "* [solve_ivp](https://docs.scipy.org/doc/scipy/reference/generated/scipy.integrate.solve_ivp.html)\n",
    "* [odeint](https://docs.scipy.org/doc/scipy/reference/generated/scipy.integrate.odeint.html)"
   ]
  },
  {
   "cell_type": "code",
   "execution_count": 30,
   "metadata": {},
   "outputs": [
    {
     "data": {
      "text/plain": [
       "<matplotlib.legend.Legend at 0x7fb62b19e760>"
      ]
     },
     "execution_count": 30,
     "metadata": {},
     "output_type": "execute_result"
    },
    {
     "data": {
      "image/png": "[encoded data removed]",
      "text/plain": [
       "<Figure size 432x288 with 1 Axes>"
      ]
     },
     "metadata": {
      "needs_background": "light"
     },
     "output_type": "display_data"
    }
   ],
   "source": [
    "#function that returns dy/dt\n",
    "def model(t,y):\n",
    "    return -y**3+math.sin(t)\n",
    "\n",
    "#initial condition\n",
    "y0=0 #y value at t0\n",
    "\n",
    "#time points\n",
    "t=np.linspace(0,2,num=10)\n",
    "\n",
    "y1=odeint(func=model,y0=y0,t=t,tfirst=True)#tfirst means that the first two arguments of func must be t,y(default: y,t)\n",
    "plt.plot(t,y1,label='odeint')\n",
    "plt.xlabel('time')\n",
    "plt.ylabel('f(t,y)')\n",
    "\n",
    "\n",
    "y2=solve_ivp(fun=model,t_span=(0,max(t)),y0=[y0],t_eval=t)#fun(t,y)\n",
    "plt.plot(t,y2['y'][0],label='solve_ivp')\n",
    "plt.legend()\n",
    "\n"
   ]
  },
  {
   "cell_type": "markdown",
   "metadata": {},
   "source": [
    "### Solving Diff Eqn Numerically\n",
    "construct a seq of Euler approx to the function y(t) that satisfies the conditions\n",
    "$y'=\\frac{1}{1+t^2}$ and y(0)=0\n",
    "\n",
    "Euler, RK2\n",
    "$y(t)=\\int \\frac{1}{1+t^2} dx$ from x=0 to x=t(Riemann sums, trapezoid, Simpson's) y(t)=arctan(t)\n",
    "\n",
    "estimate y(1)\n",
    "\n",
    "\n",
    "1. Euler method\n",
    "2. Improved Euler(RK2)\n",
    "3. RK4 \n",
    "$y_{n+1}=y_n+\\frac{1}{6}*(k_1+2k_2+2k_3+k_4)h$\n",
    "\n",
    "$k_1=f(t_n,y_n)$\n",
    "\n",
    "$k_2=f(t_n+\\frac{h}{2},y_n+h\\frac{k_1}{2})$"
   ]
  },
  {
   "cell_type": "code",
   "execution_count": 2,
   "metadata": {},
   "outputs": [],
   "source": [
    "#x0,y0 are the initial conditions\n",
    "#dx is the step size you want to take\n",
    "#x is the point where you want to get an estimation\n",
    "def Euler_method(x0,y0,dx,x):\n",
    "    n=int((x-x0)/dx)#the number of steps you need to take for your approx\n",
    "    for i in range(n):\n",
    "        slope=lambda x,y: -y**3+math.sin(x) #modify the code to reflect the derivative(slope)\n",
    "        dy=slope(x0,y0)*dx\n",
    "        y0+=dy#update y values\n",
    "        x0+=dx#update x values\n",
    "    print(str(x0),str(round(y0,6)))"
   ]
  },
  {
   "cell_type": "code",
   "execution_count": 5,
   "metadata": {},
   "outputs": [
    {
     "name": "stdout",
     "output_type": "stream",
     "text": [
      "1.9999999999999998 0.953441\n"
     ]
    }
   ],
   "source": [
    "Euler_method(0,0,0.2,2)"
   ]
  },
  {
   "cell_type": "code",
   "execution_count": 7,
   "metadata": {},
   "outputs": [
    {
     "name": "stdout",
     "output_type": "stream",
     "text": [
      "2.0000000000000013 0.932\n"
     ]
    }
   ],
   "source": [
    "#Runge-Kutta 2, RK2, Heun method\n",
    "def Euler_improved(x0,y0,dx,x):\n",
    "    slope=lambda x,y:-y**3+math.sin(x)#modify the derivative formula \n",
    "    \n",
    "    n=int((x-x0)/dx)#the number of steps you need to take for your approx\n",
    "    for i in range(n):\n",
    "        y_next=y0+dx*slope(x0,y0)#find our next possible y value using Euler's method\n",
    "        y0+=dx/2*(slope(x0,y0)+slope(x0+dx,y_next))\n",
    "        x0+=dx\n",
    "    print(str(x0),str(round(y0,3)))\n",
    "\n",
    "Euler_improved(0,0,0.02,2)"
   ]
  },
  {
   "cell_type": "code",
   "execution_count": 36,
   "metadata": {},
   "outputs": [],
   "source": [
    "#RK4\n",
    "def RK4(x0,y0,dx,x):\n",
    "    slope=lambda x,y:-y**3+math.sin(x)#modify the derivative formula \n",
    "    \n",
    "    n=int((x-x0)/dx)#the number of steps you need to take for your approx\n",
    "    for i in range(n):\n",
    "        k1=slope(x0,y0)\n",
    "        k2=slope(x0+dx/2,y0+dx*k1/2)\n",
    "        k3=slope(x0+dx/2,y0+dx*k2/2)\n",
    "        k4=slope(x0+dx,y0+dx*k3)\n",
    "        y0+=1/6*(k1+2*k2+2*k3+k4)*dx\n",
    "        x0+=dx\n",
    "    print(str(x0),str(round(y0,4)))\n",
    "    "
   ]
  },
  {
   "cell_type": "code",
   "execution_count": 38,
   "metadata": {},
   "outputs": [
    {
     "name": "stdout",
     "output_type": "stream",
     "text": [
      "1.9999999999999998 0.9324\n"
     ]
    }
   ],
   "source": [
    "RK4(0,0,0.2,2)"
   ]
  },
  {
   "cell_type": "markdown",
   "metadata": {},
   "source": [
    "### Comparisons of Diff Methodologies"
   ]
  },
  {
   "cell_type": "code",
   "execution_count": 41,
   "metadata": {},
   "outputs": [],
   "source": [
    "def Euler_method1(slope,x0,y0,dx,x):\n",
    "    n=int((x-x0)/dx)#the number of steps you need to take for your approx\n",
    "    \n",
    "    x_vals=[x0]\n",
    "    y_vals=[y0]\n",
    "    for i in range(n):\n",
    "#         slope=lambda x,y: -y**3+math.sin(x) #modify the code to reflect the derivative(slope)\n",
    "        dy=slope(x0,y0)*dx\n",
    "        y0+=dy#update y values\n",
    "        x0+=dx#update x values\n",
    "        x_vals.append(x0)\n",
    "        y_vals.append(y0)\n",
    "#     print(str(x0),str(round(y0,6)))\n",
    "    return x_vals,y_vals\n",
    "\n",
    "\n",
    "def Euler_improved2(slope,x0,y0,dx,x):\n",
    "#     slope=lambda x,y:-y**3+math.sin(x)#modify the derivative formula \n",
    "    \n",
    "    n=int((x-x0)/dx)#the number of steps you need to take for your approx\n",
    "    x_vals=[x0]\n",
    "    y_vals=[y0]\n",
    "    \n",
    "    for i in range(n):\n",
    "        y_next=y0+dx*slope(x0,y0)#find our next possible y value using Euler's method\n",
    "        y0+=dx/2*(slope(x0,y0)+slope(x0+dx,y_next))\n",
    "        x0+=dx\n",
    "        x_vals.append(x0)\n",
    "        y_vals.append(y0)\n",
    "#     print(str(x0),str(round(y0,3)))\n",
    "    return x_vals,y_vals\n",
    "\n",
    "\n",
    "def RK4_new(slope,x0,y0,dx,x):\n",
    "#     slope=lambda x,y:-y**3+math.sin(x)#modify the derivative formula \n",
    "    \n",
    "    n=int((x-x0)/dx)#the number of steps you need to take for your approx\n",
    "    x_vals=[x0]\n",
    "    y_vals=[y0]\n",
    "    \n",
    "    for i in range(n):\n",
    "        k1=slope(x0,y0)\n",
    "        k2=slope(x0+dx/2,y0+dx*k1/2)\n",
    "        k3=slope(x0+dx/2,y0+dx*k2/2)\n",
    "        k4=slope(x0+dx,y0+dx*k3)\n",
    "        y0+=1/6*(k1+2*k2+2*k3+k4)*dx\n",
    "        x0+=dx\n",
    "        x_vals.append(x0)\n",
    "        y_vals.append(y0)\n",
    "    #print(str(x0),str(round(y0,4)))\n",
    "    return x_vals,y_vals\n"
   ]
  },
  {
   "cell_type": "code",
   "execution_count": 56,
   "metadata": {},
   "outputs": [
    {
     "name": "stdout",
     "output_type": "stream",
     "text": [
      "Exact ans y at t= 2 : [5.30547159]\n",
      "Euler approx: 5.252784018508783 w/ error [-0.05268757]\n",
      "Improved Euler approx: 5.304692225005321 w/ error [-0.00077936]\n",
      "RK4 approx: 5.30547193913935 w/ error [3.49995501e-07]\n"
     ]
    },
    {
     "data": {
      "image/png": "[encoded data removed]",
      "text/plain": [
       "<Figure size 432x288 with 1 Axes>"
      ]
     },
     "metadata": {
      "needs_background": "light"
     },
     "output_type": "display_data"
    }
   ],
   "source": [
    "\n",
    "def model(t,y):\n",
    "    return y-t**2+1\n",
    "\n",
    "def Rk_comparison(model,x0,y0,dx,x):\n",
    "    num=int((x-x0)/dx)#number of iterations\n",
    "    t=np.linspace(x0,x,num)\n",
    "    \n",
    "    #exact solution\n",
    "    y1=odeint(func=model,y0=y0,t=t,tfirst=True)#tfirst=True means that the first two arguments of func must be t,y(default: y,t)\n",
    "    \n",
    "    #approximations\n",
    "    EulerX,EulerY=Euler_method1(model,x0,y0,dx,x)\n",
    "    Euler_iX,Euler_iY=Euler_improved2(model,x0,y0,dx,x)\n",
    "    RK4_X,RK4_Y=RK4_new(model,x0,y0,dx,x)\n",
    "    \n",
    "    #error\n",
    "    print(\"Exact ans y at t=\",x,':',y1[-1])\n",
    "    print(\"Euler approx:\",EulerY[-1],'w/ error',EulerY[-1]-y1[-1])\n",
    "    print(\"Improved Euler approx:\",Euler_iY[-1],'w/ error',Euler_iY[-1]-y1[-1])\n",
    "    print('RK4 approx:',RK4_Y[-1],'w/ error', RK4_Y[-1]-y1[-1])\n",
    "    #graphs\n",
    "    plt.plot(t,y1,label='odeint')\n",
    "    plt.plot(EulerX,EulerY,label='Euler')\n",
    "    plt.plot(Euler_iX,Euler_iY,label='improved_Euler')\n",
    "    plt.plot(RK4_X,RK4_Y,label='RK4')\n",
    "    plt.xlabel('time')\n",
    "    plt.ylabel('f(t,y)')\n",
    "    plt.legend()\n",
    "    \n",
    "Rk_comparison(model,0,0.5,0.02,2)\n",
    "    "
   ]
  },
  {
   "cell_type": "markdown",
   "metadata": {},
   "source": [
    "Let us dedicate some time for taylor series"
   ]
  },
  {
   "cell_type": "markdown",
   "metadata": {},
   "source": [
    "approx f(h)=$\\sin h$ \n",
    "given x0=0\n",
    "using the algorithm to approx $P_4 (h)$ (Taylor approx)"
   ]
  },
  {
   "cell_type": "code",
   "execution_count": null,
   "metadata": {},
   "outputs": [],
   "source": []
  }
 ],
 "metadata": {
  "kernelspec": {
   "display_name": "Python 3 (ipykernel)",
   "language": "python",
   "name": "python3"
  },
  "language_info": {
   "codemirror_mode": {
    "name": "ipython",
    "version": 3
   },
   "file_extension": ".py",
   "mimetype": "text/x-python",
   "name": "python",
   "nbconvert_exporter": "python",
   "pygments_lexer": "ipython3",
   "version": "3.9.12"
  }
 },
 "nbformat": 4,
 "nbformat_minor": 4
}
