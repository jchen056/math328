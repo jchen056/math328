{
 "cells": [
  {
   "cell_type": "code",
   "execution_count": 56,
   "metadata": {},
   "outputs": [],
   "source": [
    "import numpy as np\n",
    "import matplotlib.pyplot as plt \n",
    "import pandas as pd"
   ]
  },
  {
   "cell_type": "markdown",
   "metadata": {},
   "source": [
    "# ODE and PDE\n",
    "1. A differential equation is a relationship between a function, 𝑓(𝑥), its independent variable, 𝑥, and any number of its derivatives. An ordinary differential equation or ODE is a differential equation where the independent variable, and therefore also the derivatives, is in one dimension.\n",
    "2. a partial differential equation or PDE is a general form differential equation where 𝑥 is a vector containing the independent variables 𝑥1,𝑥2,𝑥3,…,𝑥𝑚, and the partial derivatives can be of any order and with respect to any combination of variables. "
   ]
  },
  {
   "cell_type": "code",
   "execution_count": 57,
   "metadata": {},
   "outputs": [],
   "source": [
    "#initial values for S,I,R\n",
    "t=0\n",
    "S=45400#suscetible: S'=-aSI\n",
    "I=2100#infectious: I'=aSI-bI\n",
    "R=2500#recovered: R'=bI"
   ]
  },
  {
   "cell_type": "code",
   "execution_count": 58,
   "metadata": {},
   "outputs": [],
   "source": [
    "def Euler_method(t0,t1,S,I,R,a,b,n):\n",
    "    dt=(t1-t0)/n#delta t value\n",
    "    \n",
    "    t_list=[t0]\n",
    "    s_list=[S]#susceptibel ppl over time\n",
    "    i_list=[I]#infectious ppl over time\n",
    "    r_list=[R]#recovered ppl over time\n",
    "#     print(\"S,I,R,S',I',R'\")\n",
    "    for i in range(n):\n",
    "        S_prime=-a*S*I\n",
    "        I_prime=a*S*I-b*I\n",
    "        R_prime=b*I\n",
    "    \n",
    "    #approximate the rate of chg\n",
    "        dS=S_prime*dt\n",
    "        dI=I_prime*dt\n",
    "        dR=R_prime*dt\n",
    "    \n",
    "    #update all the values\n",
    "        t0+=dt\n",
    "        S+=dS\n",
    "        I+=dI\n",
    "        R+=dR\n",
    "    \n",
    "        t_list.append(t0)\n",
    "        s_list.append(S)\n",
    "        i_list.append(I)\n",
    "        r_list.append(R)\n",
    "#         print(str(t0),str(round(S,2)),str(round(I,2)),str(round(R,2)))\n",
    "    return s_list[-1],i_list[-1],r_list[-1]\n",
    "#     plt.plot(t_list,s_list,label=\"S\")\n",
    "#     plt.plot(t_list,i_list,label=\"I\")\n",
    "#     plt.plot(t_list,r_list,label=\"R\")\n",
    "#     plt.legend()\n"
   ]
  },
  {
   "cell_type": "code",
   "execution_count": 70,
   "metadata": {},
   "outputs": [
    {
     "data": {
      "text/plain": [
       "(3283.1243430939867, 1001.593779650706, 815.2818772554513)"
      ]
     },
     "execution_count": 70,
     "metadata": {},
     "output_type": "execute_result"
    }
   ],
   "source": [
    "Euler_method(0,7.49,4500,100,500,0.0001,0.1,10000000)"
   ]
  },
  {
   "cell_type": "markdown",
   "metadata": {},
   "source": [
    "#let us varying the stepsize"
   ]
  },
  {
   "cell_type": "code",
   "execution_count": null,
   "metadata": {},
   "outputs": [],
   "source": [
    "t_values=[1,0.1,0.01,0.001,0.0001,0.00001]\n",
    "df=pd.DataFrame(np.zeros((6,3)),index=[1,0.1,0.01,0.001,0.0001,0.00001],columns=['S(1)','I(1)','R(1)'])   \n",
    "new_S0=[]\n",
    "for i in range(len(t_values)):\n",
    "    S1,I1,R1=Euler_method(0,1,45400,2100,2500,0.00001,1/14,int(1/t_values[i]))\n",
    "    df.iloc[i]=S1,I1,R1\n",
    "    new_S0.append(Euler_method(1,0,S1,I1,R1,0.00001,1/14,int(1/t_values[i]))[0])\n",
    "    \n",
    "df['new S(0)']=new_S0\n",
    "df['discrepancy']=df['new S(0)']-S\n",
    "print(df)"
   ]
  },
  {
   "cell_type": "markdown",
   "metadata": {},
   "source": [
    "# Euler method for other questions\n",
    "y(0)=100, y'=0.1y(1-y/1000)\n",
    "approximate y(37)\n"
   ]
  },
  {
   "cell_type": "code",
   "execution_count": 35,
   "metadata": {},
   "outputs": [
    {
     "name": "stdout",
     "output_type": "stream",
     "text": [
      "37.000000000000476 817.9693148963684\n"
     ]
    }
   ],
   "source": [
    "def func_deriv(y):#the derivative; the slope\n",
    "    return 0.1*y*(1-y/1000)\n",
    "\n",
    "y_value=100    #intial value for the variable of our interest\n",
    "t_value=0      #intial value for time\n",
    "dt_value=0.005 #step size\n",
    "\n",
    "for i in range(int(37/dt_value)):#how many iterations?\n",
    "    y_p=func_deriv(y_value)#calculate the slope\n",
    "    y_value+=y_p*dt_value#variable of interest at t+dt\n",
    "    t_value+=dt_value#new t\n",
    "print(t_value,y_value)"
   ]
  },
  {
   "cell_type": "markdown",
   "metadata": {},
   "source": [
    "# Generalize Euler for all questions\n",
    "given inital values for x and t and x'\n",
    "find x(t) in the near future"
   ]
  },
  {
   "cell_type": "code",
   "execution_count": 35,
   "metadata": {},
   "outputs": [],
   "source": [
    "def Euler_for_oneVar(x,t,dt,n):\n",
    "    for i in range(n):\n",
    "        dx=2*x*(1-x)*dt #modify the code to reflect the derivative(slope)\n",
    "        x+=dx\n",
    "        t+=dt\n",
    "    print(str(t),str(round(x,3)))\n",
    "        \n"
   ]
  },
  {
   "cell_type": "code",
   "execution_count": 36,
   "metadata": {},
   "outputs": [
    {
     "name": "stdout",
     "output_type": "stream",
     "text": [
      "10.999999999999996 0.629\n"
     ]
    }
   ],
   "source": [
    "Euler_for_oneVar(0.2,10,0.2,5)"
   ]
  },
  {
   "cell_type": "code",
   "execution_count": 29,
   "metadata": {},
   "outputs": [],
   "source": [
    "def Euler_for_oneVar1(x,t,dt,n):\n",
    "    for i in range(n):\n",
    "        x_prime=lambda a:0.005*a #modify the code to reflect the derivative(slope)\n",
    "        dx=x_prime(x)*dt\n",
    "        x+=dx\n",
    "        t+=dt\n",
    "    print(str(t),str(round(x,3)))"
   ]
  },
  {
   "cell_type": "code",
   "execution_count": 37,
   "metadata": {},
   "outputs": [
    {
     "name": "stdout",
     "output_type": "stream",
     "text": [
      "20.000000000001457 4042.065\n"
     ]
    }
   ],
   "source": [
    "Euler_for_oneVar1(3750,5,0.001,15000)"
   ]
  },
  {
   "cell_type": "code",
   "execution_count": null,
   "metadata": {},
   "outputs": [],
   "source": []
  }
 ],
 "metadata": {
  "kernelspec": {
   "display_name": "Python 3",
   "language": "python",
   "name": "python3"
  },
  "language_info": {
   "codemirror_mode": {
    "name": "ipython",
    "version": 3
   },
   "file_extension": ".py",
   "mimetype": "text/x-python",
   "name": "python",
   "nbconvert_exporter": "python",
   "pygments_lexer": "ipython3",
   "version": "3.8.5"
  }
 },
 "nbformat": 4,
 "nbformat_minor": 4
}
