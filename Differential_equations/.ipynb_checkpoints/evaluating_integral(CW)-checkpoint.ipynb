{
 "cells": [
  {
   "cell_type": "code",
   "execution_count": 15,
   "metadata": {},
   "outputs": [],
   "source": [
    "import math\n",
    "import matplotlib.pyplot as plt\n",
    "import numpy as np"
   ]
  },
  {
   "cell_type": "code",
   "execution_count": null,
   "metadata": {},
   "outputs": [],
   "source": [
    "#evaluate the integral\n"
   ]
  },
  {
   "cell_type": "code",
   "execution_count": 9,
   "metadata": {},
   "outputs": [
    {
     "name": "stdout",
     "output_type": "stream",
     "text": [
      "1.0 0.0029\n"
     ]
    }
   ],
   "source": [
    "def f(x,y):\n",
    "    return x**(30)/(x+10)\n",
    "\n",
    "x=0#initial value: time\n",
    "y=0##intial value: value\n",
    "h=0.001\n",
    "for k in range(1000):\n",
    "    m1=f(x,y)#compute the slope\n",
    "    x+=h\n",
    "    y+=m1*h\n",
    "print(str(round(x,2)),str(round(y,4)))#evaluate y at 1"
   ]
  },
  {
   "cell_type": "code",
   "execution_count": 10,
   "metadata": {},
   "outputs": [
    {
     "name": "stdout",
     "output_type": "stream",
     "text": [
      "-91698816953283.66\n"
     ]
    }
   ],
   "source": [
    "y0=math.log(11)-math.log(10)\n",
    "for k in range(1,31):\n",
    "    y0=-10*y0+1/k\n",
    "print(y0)\n",
    "#However, this algorithm is in fact unstable, as the magnitude of roundoff errors gets multiplied\n",
    "#by 10 each time the recursion is applied."
   ]
  },
  {
   "cell_type": "markdown",
   "metadata": {},
   "source": [
    "Derive a formula for approximately computing these integrals based on evaluating $y_{n−1}$\n",
    "given $y_n$. Let us say we start at $y_{50}$ and we are working all the way to $y_{30}$.\n",
    "\n",
    "1. graph x^50/(x+10)\n",
    "2. make an observation: as you can see, the area from 0 to 1 seems to be 0 (not exact solution but that is the treadeoff you have to make)\n",
    "3. using $y_{n-1}=1/(10n)-y_n/10$"
   ]
  },
  {
   "cell_type": "code",
   "execution_count": 19,
   "metadata": {},
   "outputs": [
    {
     "name": "stdout",
     "output_type": "stream",
     "text": [
      "as you can see, the area for x^50/(x+10) from 0 to 1 is almost 0\n"
     ]
    },
    {
     "data": {
      "image/png": "[encoded data removed]",
      "text/plain": [
       "<Figure size 432x288 with 1 Axes>"
      ]
     },
     "metadata": {
      "needs_background": "light"
     },
     "output_type": "display_data"
    }
   ],
   "source": [
    "y50=lambda x: x**(50)/(x+10)\n",
    "plt.plot(np.arange(0,1,0.01),y50(np.arange(0,1,0.01)))\n",
    "plt.axvline(x=0,color='r')\n",
    "plt.axvline(x=1,color='r')\n",
    "print(\"as you can see, the area for x^50/(x+10) from 0 to 1 is almost 0\")"
   ]
  },
  {
   "cell_type": "code",
   "execution_count": null,
   "metadata": {},
   "outputs": [],
   "source": []
  }
 ],
 "metadata": {
  "kernelspec": {
   "display_name": "Python 3",
   "language": "python",
   "name": "python3"
  },
  "language_info": {
   "codemirror_mode": {
    "name": "ipython",
    "version": 3
   },
   "file_extension": ".py",
   "mimetype": "text/x-python",
   "name": "python",
   "nbconvert_exporter": "python",
   "pygments_lexer": "ipython3",
   "version": "3.8.5"
  }
 },
 "nbformat": 4,
 "nbformat_minor": 4
}
