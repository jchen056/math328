{
 "cells": [
  {
   "cell_type": "code",
   "execution_count": 8,
   "metadata": {},
   "outputs": [],
   "source": [
    "import numpy as np\n",
    "import math"
   ]
  },
  {
   "cell_type": "markdown",
   "metadata": {},
   "source": [
    "# bisection method\n",
    "f(x)=0 find the roots\n",
    "efficient--requires small number of function evaluations\n",
    "robust--fails rarely\n",
    "requires minimal smoothness of f\n",
    "\n",
    "1. evaluate f(p), where p=$\\frac{a+b}{2}$\n",
    "2. check the sign of f(a)*f(p): positive, negative, zero\n",
    "3. in each iteration, the interval x* is trapped is shrinked by a factor of 2. After a total of n iterations, $|x*-x_n|<=\\frac{b-a}{2}*2^{-n}$\n",
    "\n",
    "there are several ways that you can stop\n",
    "1. |$x_n$-$x_{n-1}$|<atol and/or \n",
    "2. rel error and/or\n",
    "3. f($x_n$)<ftol; the function itself is close enough to 0"
   ]
  },
  {
   "cell_type": "code",
   "execution_count": 14,
   "metadata": {},
   "outputs": [],
   "source": [
    "def bisec(a,b,atol):\n",
    "    #f is continuous function\n",
    "    f=lambda x: x**3-30*x*x+2552#given the function for which you want ot find the root\n",
    "    \n",
    "    #does f(a)*f(b)<0?\n",
    "    if f(a)*f(b)>0:\n",
    "        print(\"f(a)*(b)>0; there may be no sol\")\n",
    "        return\n",
    "    \n",
    "    n=math.ceil(math.log2((b-a)/(2*atol)))\n",
    "    \n",
    "    i=0\n",
    "    while i<n:\n",
    "        p=(a+b)/2\n",
    "        if (f(a)*f(p))<0:\n",
    "            b=p\n",
    "     \n",
    "        elif f(a)*f(p)>0:\n",
    "            a=p\n",
    "        elif f(a)*f(p)==0:\n",
    "            return p\n",
    "    i=i+1\n",
    "    return p\n",
    "        "
   ]
  },
  {
   "cell_type": "code",
   "execution_count": 15,
   "metadata": {},
   "outputs": [
    {
     "data": {
      "text/plain": [
       "11.861501508120412"
      ]
     },
     "execution_count": 15,
     "metadata": {},
     "output_type": "execute_result"
    }
   ],
   "source": [
    "bisec(0,20,0.00000001)"
   ]
  },
  {
   "cell_type": "code",
   "execution_count": null,
   "metadata": {},
   "outputs": [],
   "source": []
  },
  {
   "cell_type": "code",
   "execution_count": null,
   "metadata": {},
   "outputs": [],
   "source": []
  }
 ],
 "metadata": {
  "kernelspec": {
   "display_name": "Python 3",
   "language": "python",
   "name": "python3"
  },
  "language_info": {
   "codemirror_mode": {
    "name": "ipython",
    "version": 3
   },
   "file_extension": ".py",
   "mimetype": "text/x-python",
   "name": "python",
   "nbconvert_exporter": "python",
   "pygments_lexer": "ipython3",
   "version": "3.8.5"
  }
 },
 "nbformat": 4,
 "nbformat_minor": 4
}
