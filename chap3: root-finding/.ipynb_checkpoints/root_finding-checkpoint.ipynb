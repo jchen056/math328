{
 "cells": [
  {
   "cell_type": "code",
   "execution_count": 19,
   "metadata": {},
   "outputs": [],
   "source": [
    "import numpy as np\n",
    "import math\n",
    "from scipy import optimize"
   ]
  },
  {
   "cell_type": "markdown",
   "metadata": {},
   "source": [
    "Finding the roots of functions is important in many engineering applications such as signal processing and optimization\n",
    "\n",
    "let us try to find the roots of f(x)=a$x^2$+bx+c: \n",
    "$x_r$=$\\frac{-b\\pm\\sqrt{b^2-4ac}}{2a}$\n",
    "\n",
    "However,for more complicated functions, the roots can rarely be computed using such explicit, or exact, means."
   ]
  },
  {
   "cell_type": "code",
   "execution_count": 6,
   "metadata": {},
   "outputs": [
    {
     "name": "stdout",
     "output_type": "stream",
     "text": [
      "roots are 3.0 -3.0\n"
     ]
    }
   ],
   "source": [
    "def finding_square_root(a,b,c):\n",
    "    dta=b*b-4*a*c\n",
    "    if dta<0:\n",
    "        print(\"no solution\")\n",
    "        return\n",
    "    elif dta==0:\n",
    "        print(\"idential root(s):\",-b/(2*a))\n",
    "    else:\n",
    "        print(\"roots are\",(-b+math.sqrt(b*b-4*a*c))/(2*a),(-b-math.sqrt(b*b-4*a*c))/(2*a))\n",
    "\n",
    "finding_square_root(1,0,-9)"
   ]
  },
  {
   "cell_type": "markdown",
   "metadata": {},
   "source": [
    "# bisection method\n",
    "f(x)=0: find the roots\n",
    "efficient--requires small number of function evaluations\n",
    "robust--fails rarely\n",
    "requires minimal smoothness of f\n",
    "\n",
    "Tolerance is the level of error that is acceptable for an engineering application. We say that a computer program has converged to a solution when it has found a solution with an error smaller than the tolerance. When computing roots numerically, or conducting any other kind of numerical analysis, it is important to establish both a metric for error and a tolerance that is suitable for a given engineering/science application.\n",
    "\n",
    "The Intermediate Value Theorem says that if 𝑓(𝑥) is a continuous function between 𝑎 and 𝑏, and sign(𝑓(𝑎))≠sign(𝑓(𝑏)), then there must be a 𝑐, such that 𝑎<𝑐<𝑏 and 𝑓(𝑐)=0.\n",
    "\n",
    "1. evaluate f(p), where p=$\\frac{a+b}{2}$\n",
    "2. check the sign of f(a)*f(p): positive, negative, zero\n",
    "3. in each iteration, the interval x* is trapped is shrinked by a factor of 2. After a total of n iterations, $|x*-x_n|<=\\frac{b-a}{2}*2^{-n}$\n",
    "\n",
    "there are several ways that you can stop the program\n",
    "1. |$x_n$-$x_{n-1}$|<atol and/or \n",
    "2. rel error and/or\n",
    "3. f($x_n$)<ftol; the function itself is close enough to 0\n",
    "\n",
    "problem statement: evaluate f(x)=cosx-x near -2"
   ]
  },
  {
   "cell_type": "code",
   "execution_count": 20,
   "metadata": {},
   "outputs": [
    {
     "name": "stdout",
     "output_type": "stream",
     "text": [
      "roots of cos-x+2 are [0.73908513]\n",
      "results= [0.]\n"
     ]
    }
   ],
   "source": [
    "f=lambda x: math.cos(x)-x\n",
    "r=optimize.fsolve(f,-2)\n",
    "print(\"roots of cos-x+2 are\",r)\n",
    "\n",
    "#let us verify the results\n",
    "result=f(r)\n",
    "print(\"results=\",result)"
   ]
  },
  {
   "cell_type": "code",
   "execution_count": 33,
   "metadata": {},
   "outputs": [],
   "source": [
    "def bisec(a,b,tol):\n",
    "    #f is continuous function\n",
    "    f=lambda x: x*x-2#given the function for which you want ot find the root\n",
    "    \n",
    "    #does f(a)*f(b)<0?\n",
    "    if f(a)*f(b)>0:\n",
    "        print(\"f(a)*(b)>0; there may be no sol\")\n",
    "        return\n",
    "    \n",
    "    av_s=np.array(a)\n",
    "    bv_s=np.array(b)\n",
    "    p=(a+b)/2\n",
    "    pv_s=np.array(p)\n",
    "    \n",
    "    while (np.abs(f(p))>=tol):\n",
    "        if np.sign(f(a))==np.sign(f(p)):#p is an improvement on a\n",
    "            a=p\n",
    "            av_s=np.append(av_s, a)\n",
    "            bv_s=np.append(bv_s,b)\n",
    "            p=(a+b)/2\n",
    "            pv_s=np.append(pv_s,p)\n",
    "        elif np.sign(f(b))==np.sign(f(p)):#p is an improvmeent on b\n",
    "            b=p\n",
    "            av_s=np.append(av_s, a)\n",
    "            bv_s=np.append(bv_s,b)\n",
    "            p=(a+b)/2\n",
    "            pv_s=np.append(pv_s,p)\n",
    "    return p\n",
    "       "
   ]
  },
  {
   "cell_type": "code",
   "execution_count": 35,
   "metadata": {},
   "outputs": [
    {
     "name": "stdout",
     "output_type": "stream",
     "text": [
      "1.4140625\n"
     ]
    }
   ],
   "source": [
    "print(bisec(0,2,0.01))"
   ]
  },
  {
   "cell_type": "code",
   "execution_count": null,
   "metadata": {},
   "outputs": [],
   "source": []
  },
  {
   "cell_type": "code",
   "execution_count": null,
   "metadata": {},
   "outputs": [],
   "source": []
  }
 ],
 "metadata": {
  "kernelspec": {
   "display_name": "Python 3",
   "language": "python",
   "name": "python3"
  },
  "language_info": {
   "codemirror_mode": {
    "name": "ipython",
    "version": 3
   },
   "file_extension": ".py",
   "mimetype": "text/x-python",
   "name": "python",
   "nbconvert_exporter": "python",
   "pygments_lexer": "ipython3",
   "version": "3.8.5"
  }
 },
 "nbformat": 4,
 "nbformat_minor": 4
}
