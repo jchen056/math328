{
 "cells": [
  {
   "cell_type": "markdown",
   "id": "fb43f3d7",
   "metadata": {},
   "source": [
    "find the solution to $e^x+x=7$\n",
    "1. Bisection method f(x)=$e^x$+x-7 and find c such that f(x)=0\n",
    "2. FPI: x=g(x)=7-$e^x$(bad FPI) OR x=g(x)=ln(7-x) (good FPI)\n",
    "3. Newton's method $x_{n+1}=x_n-\\frac{f(x_n)}{f'(x_n)}$ (quadratic convergence)\n",
    "\n",
    "we do not want to evaluate first derivative, let us do $f'(x_1)=\\frac{f(x_1)-f(x_0)}{x_1-x_0}$\n",
    "\n"
   ]
  },
  {
   "cell_type": "code",
   "execution_count": 2,
   "id": "e523c336",
   "metadata": {},
   "outputs": [],
   "source": [
    "import math"
   ]
  },
  {
   "cell_type": "code",
   "execution_count": 3,
   "id": "d42f7d3d",
   "metadata": {},
   "outputs": [
    {
     "name": "stdout",
     "output_type": "stream",
     "text": [
      "0 1.0\n",
      "1 1.5\n",
      "2 1.75\n",
      "3 1.625\n",
      "4 1.6875\n",
      "5 1.65625\n",
      "6 1.671875\n",
      "7 1.6796875\n",
      "8 1.67578125\n",
      "9 1.673828125\n",
      "10 1.6728515625\n",
      "11 1.67236328125\n",
      "12 1.672607421875\n",
      "13 1.6727294921875\n",
      "14 1.67279052734375\n",
      "15 1.672821044921875\n",
      "16 1.6728363037109375\n",
      "17 1.6728286743164062\n",
      "18 1.6728248596191406\n",
      "19 1.6728229522705078\n",
      "20 1.6728219985961914\n",
      "21 1.6728215217590332\n",
      "22 1.6728217601776123\n",
      "23 1.6728216409683228\n",
      "24 1.6728217005729675\n",
      "25 1.6728216707706451\n",
      "26 1.6728216856718063\n",
      "27 1.672821693122387\n",
      "28 1.6728216968476772\n",
      "29 1.6728216987103224\n",
      "30 1.6728216977789998\n",
      "31 1.672821698244661\n",
      "32 1.6728216984774917\n"
     ]
    }
   ],
   "source": [
    "#Bisection method\n",
    "a,b=0,2\n",
    "def f1(x):\n",
    "    return math.exp(x)+x-7\n",
    "\n",
    "for i in range(33):\n",
    "    c=(a+b)/2#find midpoint\n",
    "    print(i,c)\n",
    "    if f1(a)*f1(c)<0:\n",
    "        b=c\n",
    "    else:\n",
    "        a=c\n",
    "print(\"it takes 28 steps to 8 correct decimal places\")"
   ]
  },
  {
   "cell_type": "code",
   "execution_count": 7,
   "id": "cb2fd7e2",
   "metadata": {},
   "outputs": [
    {
     "name": "stdout",
     "output_type": "stream",
     "text": [
      "0 1\n",
      "1 1.791759469228055\n",
      "2 1.650242088703825\n",
      "3 1.677051309659079\n",
      "4 1.6720274149070633\n",
      "5 1.6729707877843354\n",
      "6 1.6727937117222786\n",
      "7 1.6728269522231225\n",
      "8 1.6728207124413774\n"
     ]
    }
   ],
   "source": [
    "# fixed point method x=g(x)=ln(7-x)\n",
    "def g1(x):\n",
    "    return math.log(7-x)\n",
    "\n",
    "x=1\n",
    "print(0,x)\n",
    "for i in range(1,9):\n",
    "    x=g1(x)\n",
    "    print(i,x)"
   ]
  },
  {
   "cell_type": "code",
   "execution_count": 6,
   "id": "5e8461b0",
   "metadata": {},
   "outputs": [
    {
     "data": {
      "text/plain": [
       "1.0"
      ]
     },
     "execution_count": 6,
     "metadata": {},
     "output_type": "execute_result"
    }
   ],
   "source": [
    "#newton's method\n",
    "x0,x1=1,2\n",
    "for i in range(1,9):\n",
    "    "
   ]
  },
  {
   "cell_type": "code",
   "execution_count": null,
   "id": "636a0088",
   "metadata": {},
   "outputs": [],
   "source": []
  }
 ],
 "metadata": {
  "kernelspec": {
   "display_name": "Python 3 (ipykernel)",
   "language": "python",
   "name": "python3"
  },
  "language_info": {
   "codemirror_mode": {
    "name": "ipython",
    "version": 3
   },
   "file_extension": ".py",
   "mimetype": "text/x-python",
   "name": "python",
   "nbconvert_exporter": "python",
   "pygments_lexer": "ipython3",
   "version": "3.9.12"
  }
 },
 "nbformat": 4,
 "nbformat_minor": 5
}
