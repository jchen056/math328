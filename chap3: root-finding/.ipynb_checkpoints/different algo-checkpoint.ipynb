{
 "cells": [
  {
   "cell_type": "code",
   "execution_count": 29,
   "id": "0dc051bb",
   "metadata": {},
   "outputs": [],
   "source": [
    "import math\n",
    "from scipy import optimize\n",
    "import numpy as np"
   ]
  },
  {
   "cell_type": "markdown",
   "id": "22716497",
   "metadata": {},
   "source": [
    "1. linearly convergent: if there is a constant p<1 such that $|x_{k+1}-x^*|\\le p|x_k-x^*|$ for all k sufficiently large\n",
    "2. quadratically convergent: if there is a constant M such that $|x_{k+1}-x^*|\\le M(|x_k-x^*|)^2$ for all k sufficiently large\n",
    "3. superlinearly convergent: if there is a seq of constants $p_k$->0 such that $|x_{k+1}-x^*|\\le p_k|x_k-x^*|$"
   ]
  },
  {
   "cell_type": "code",
   "execution_count": 4,
   "id": "39b0f854",
   "metadata": {},
   "outputs": [
    {
     "name": "stdout",
     "output_type": "stream",
     "text": [
      "roots for x**3-30x**2+2552 are: [11.86150151]\n"
     ]
    }
   ],
   "source": [
    "f=lambda x: x**3-30*x*x+2552\n",
    "r=optimize.fsolve(f,x0=6)#we want to solve for f(x)=0\n",
    "print(\"roots for x**3-30x**2+2552 are:\",r)"
   ]
  },
  {
   "cell_type": "code",
   "execution_count": 12,
   "id": "ca7f1da9",
   "metadata": {},
   "outputs": [
    {
     "name": "stdout",
     "output_type": "stream",
     "text": [
      "number of iterations: 30\n"
     ]
    },
    {
     "data": {
      "text/plain": [
       "11.86150150373578"
      ]
     },
     "execution_count": 12,
     "metadata": {},
     "output_type": "execute_result"
    }
   ],
   "source": [
    "#Bisection\n",
    "#a,b define an interval on which you want to find a root\n",
    "#atol is the error(tolerance); |x_(n+1)-x_n|<atol\n",
    "def bisection(a,b,atol):\n",
    "    f=lambda x: x**3-30*x*x+2552#function which you want to find roots\n",
    "    if f(a)*f(b)>0:\n",
    "        print(\"there is probably no solution\")\n",
    "        return\n",
    "    \n",
    "    n=math.ceil(math.log2(b-a)-math.log2(2*atol))\n",
    "    print(\"number of iterations:\",n)\n",
    "    for i in range(n):\n",
    "        c=(a+b)/2\n",
    "        if f(a)*f(c)<0:\n",
    "            b=c\n",
    "        else:\n",
    "            a=c\n",
    "    return c\n",
    "\n",
    "print(\"root\",bisection(0,20,10**(-8)))"
   ]
  },
  {
   "cell_type": "markdown",
   "id": "c93f4fb5",
   "metadata": {},
   "source": [
    "# FPI\n",
    "1. $|x_k-x^*|=p^k |x_0-x^*|$\n",
    "2. rate=-$log{_{10}}{p}$; it takes ceiling(1/rate) iterations to reduce the error by more than an order of magnitude\n"
   ]
  },
  {
   "cell_type": "code",
   "execution_count": 23,
   "id": "bbcafac6",
   "metadata": {},
   "outputs": [
    {
     "name": "stdout",
     "output_type": "stream",
     "text": [
      "roots found using fsolve: [1.6728217]\n"
     ]
    },
    {
     "data": {
      "text/plain": [
       "1.6728218837526967"
      ]
     },
     "execution_count": 23,
     "metadata": {},
     "output_type": "execute_result"
    }
   ],
   "source": [
    "f1=lambda x:(math.e)**x+x-7\n",
    "print(\"roots found using fsolve:\",optimize.fsolve(f1,x0=2))\n",
    "\n",
    "def FPI(x0,n):#x0 is your initial guess; n is the number of iterations\n",
    "    g=lambda x:math.log(7-x)#enter your x=g(x) here\n",
    "    x=g(x0)#FPI for the first time\n",
    "    for i in range(1,n):\n",
    "        x=g(x)\n",
    "#         print(i,x)\n",
    "    return x\n",
    "        \n",
    "FPI(1,9)   "
   ]
  },
  {
   "cell_type": "markdown",
   "id": "ed3ba4c5",
   "metadata": {},
   "source": [
    "# Newton's method\n",
    "$x_{k+1}=x_k-\\frac{f(x_k)}{f'(x_k)}$\n",
    "\n",
    "note that Newton's method requires you to evaluate f'"
   ]
  },
  {
   "cell_type": "code",
   "execution_count": 28,
   "id": "bb5a0bfd",
   "metadata": {},
   "outputs": [
    {
     "name": "stdout",
     "output_type": "stream",
     "text": [
      "1 0.957678119175661\n",
      "2 0.7348277949945015\n",
      "3 0.6845917706849266\n",
      "4 0.6823321742044841\n",
      "5 0.6823278038443323\n",
      "6 0.6823278038280193\n",
      "7 0.6823278038280193\n",
      "8 0.6823278038280193\n",
      "9 0.6823278038280193\n"
     ]
    },
    {
     "data": {
      "text/plain": [
       "0.6823278038280193"
      ]
     },
     "execution_count": 28,
     "metadata": {},
     "output_type": "execute_result"
    }
   ],
   "source": [
    "def newton_method(x0,n):\n",
    "    f=lambda x: x**3+x-1\n",
    "    fp=lambda x: 3*x*x+1\n",
    "    \n",
    "    x=x0-f(x0)/fp(x0)\n",
    "    for i in range(1,n):\n",
    "        x=x-f(x)/fp(x)\n",
    "        print(i,x)\n",
    "    return x\n",
    "\n",
    "newton_method(-0.7,10)"
   ]
  },
  {
   "cell_type": "markdown",
   "id": "b1c926b4",
   "metadata": {},
   "source": [
    "# Secant method\n",
    "the secant method is a variant of Newton's method, where $f'(x_k)$ is replaced by its finite difference approximation based on the evaluated function values at $x_k$ and at the previous iterate $x_{k-1}$\n",
    "1. $f'(x_k) \\approx \\frac{f(x_k)-f(x_{k-1})}{x_k-x_{k-1}} $\n",
    "2. $x_{k+1}=x_k-\\frac{f(x_k)(x_k-x_{k-1})}{f(x_k)-f(x_{k-1})} $"
   ]
  },
  {
   "cell_type": "code",
   "execution_count": 42,
   "id": "6f329e2a",
   "metadata": {},
   "outputs": [
    {
     "data": {
      "text/plain": [
       "2.96579440290151"
      ]
     },
     "execution_count": 42,
     "metadata": {},
     "output_type": "execute_result"
    }
   ],
   "source": [
    "def secant_method(x0,x1,n):#secant method require two initial condition x0, x1; n is the number of iterations\n",
    "    \n",
    "    f=lambda x: 0.1*np.exp(x)-np.log(x+4)#the function\n",
    "    \n",
    "    for i in range(n):\n",
    "        fx1=f(x1)\n",
    "        fx0=f(x0)\n",
    "        xtemp=x1\n",
    "        x1=x1-fx1*(x1-x0)/(fx1-fx0)\n",
    "        x0=xtemp\n",
    "    return x1\n",
    "secant_method(2,4,10)"
   ]
  },
  {
   "cell_type": "code",
   "execution_count": null,
   "id": "03d855cd",
   "metadata": {},
   "outputs": [],
   "source": []
  }
 ],
 "metadata": {
  "kernelspec": {
   "display_name": "Python 3 (ipykernel)",
   "language": "python",
   "name": "python3"
  },
  "language_info": {
   "codemirror_mode": {
    "name": "ipython",
    "version": 3
   },
   "file_extension": ".py",
   "mimetype": "text/x-python",
   "name": "python",
   "nbconvert_exporter": "python",
   "pygments_lexer": "ipython3",
   "version": "3.9.12"
  }
 },
 "nbformat": 4,
 "nbformat_minor": 5
}
