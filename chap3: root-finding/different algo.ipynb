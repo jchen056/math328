{
 "cells": [
  {
   "cell_type": "code",
   "execution_count": 1,
   "id": "0dc051bb",
   "metadata": {},
   "outputs": [],
   "source": [
    "import math\n",
    "from scipy import optimize\n",
    "import numpy as np\n"
   ]
  },
  {
   "cell_type": "markdown",
   "id": "22716497",
   "metadata": {},
   "source": [
    "1. linearly convergent: if there is a constant p<1 such that $|x_{k+1}-x^*|\\le p|x_k-x^*|$ for all k sufficiently large\n",
    "2. quadratically convergent: if there is a constant M such that $|x_{k+1}-x^*|\\le M(|x_k-x^*|)^2$ for all k sufficiently large\n",
    "3. superlinearly convergent: if there is a seq of constants $p_k$->0 such that $|x_{k+1}-x^*|\\le p_k|x_k-x^*|$"
   ]
  },
  {
   "cell_type": "code",
   "execution_count": 4,
   "id": "39b0f854",
   "metadata": {},
   "outputs": [
    {
     "name": "stdout",
     "output_type": "stream",
     "text": [
      "roots for x**3-30x**2+2552 are: [11.86150151]\n"
     ]
    }
   ],
   "source": [
    "f=lambda x: x**3-30*x*x+2552\n",
    "r=optimize.fsolve(f,x0=6)#we want to solve for f(x)=0\n",
    "print(\"roots for x**3-30x**2+2552 are:\",r)"
   ]
  },
  {
   "cell_type": "code",
   "execution_count": 5,
   "id": "7b85d493",
   "metadata": {},
   "outputs": [
    {
     "name": "stdout",
     "output_type": "stream",
     "text": [
      "n \t a \t b \t error\n",
      "0 \t 0 \t 2 \t 1.0\n",
      "1 \t 1.0 \t 2 \t 0.5\n",
      "2 \t 1.0 \t 1.5 \t 0.125\n",
      "3 \t 1.0 \t 1.25 \t 0.03125\n",
      "4 \t 1.125 \t 1.25 \t 0.0078125\n",
      "5 \t 1.125 \t 1.1875 \t 0.001953125\n",
      "6 \t 1.125 \t 1.15625 \t 0.00048828125\n",
      "7 \t 1.140625 \t 1.15625 \t 0.0001220703125\n",
      "8 \t 1.140625 \t 1.1484375 \t 3.0517578125e-05\n"
     ]
    },
    {
     "data": {
      "text/plain": [
       "1.14453125"
      ]
     },
     "execution_count": 5,
     "metadata": {},
     "output_type": "execute_result"
    }
   ],
   "source": [
    "def bis(a,b,n):\n",
    "    f=lambda x: math.exp(x)-x-2\n",
    "    if f(a)*f(b)>0:\n",
    "        print(\"There may be no sol between a and b\")\n",
    "        return\n",
    "    print(\"n \\t a \\t b \\t error\")\n",
    "    print('0','\\t',a,'\\t',b,'\\t',(b-a)/2)\n",
    "    for i in range(n):\n",
    "        c=(a+b)/2\n",
    "        if f(a)*f(c)<0:\n",
    "            b=c\n",
    "        else:\n",
    "            a=c\n",
    "        print(i+1,'\\t',a,'\\t',b,'\\t',(b-a)/(2**(i+1)))\n",
    "    return (a+b)/2\n",
    "bis(0,2,8)\n",
    "        "
   ]
  },
  {
   "cell_type": "code",
   "execution_count": 12,
   "id": "ca7f1da9",
   "metadata": {},
   "outputs": [
    {
     "name": "stdout",
     "output_type": "stream",
     "text": [
      "number of iterations: 30\n"
     ]
    },
    {
     "data": {
      "text/plain": [
       "11.86150150373578"
      ]
     },
     "execution_count": 12,
     "metadata": {},
     "output_type": "execute_result"
    }
   ],
   "source": [
    "#Bisection\n",
    "#a,b define an interval on which you want to find a root\n",
    "#atol is the error(tolerance); |x_(n+1)-x_n|<atol\n",
    "def bisection(a,b,atol):\n",
    "    f=lambda x: x**3-30*x*x+2552#function which you want to find roots\n",
    "    if f(a)*f(b)>0:\n",
    "        print(\"there is probably no solution\")\n",
    "        return\n",
    "    \n",
    "    n=math.ceil(math.log2(b-a)-math.log2(2*atol))\n",
    "    print(\"number of iterations:\",n)\n",
    "    for i in range(n):\n",
    "        c=(a+b)/2\n",
    "        if f(a)*f(c)<0:\n",
    "            b=c\n",
    "        else:\n",
    "            a=c\n",
    "    return c\n",
    "\n",
    "print(\"root\",bisection(0,20,10**(-8)))"
   ]
  },
  {
   "cell_type": "markdown",
   "id": "c93f4fb5",
   "metadata": {},
   "source": [
    "# FPI\n",
    "1. $|x_k-x^*|=p^k |x_0-x^*|$\n",
    "2. rate=-$log{_{10}}{p}$; it takes ceiling(1/rate) iterations to reduce the error by more than an order of magnitude\n"
   ]
  },
  {
   "cell_type": "code",
   "execution_count": 7,
   "id": "bbcafac6",
   "metadata": {},
   "outputs": [
    {
     "data": {
      "text/plain": [
       "1.6728218837526967"
      ]
     },
     "execution_count": 7,
     "metadata": {},
     "output_type": "execute_result"
    }
   ],
   "source": [
    "# f1=lambda x:(math.e)**x+x-7\n",
    "# print(\"roots found using fsolve:\",optimize.fsolve(f1,x0=2))\n",
    "\n",
    "def FPI(x0,n):#x0 is your initial guess; n is the number of iterations\n",
    "    g=lambda x:math.log(7-x)#enter your x=g(x) here\n",
    "    x=g(x0)#FPI for the first time\n",
    "    for i in range(1,n):\n",
    "        x=g(x)\n",
    "    return x\n",
    "        \n",
    "FPI(1,9)   "
   ]
  },
  {
   "cell_type": "markdown",
   "id": "ed3ba4c5",
   "metadata": {},
   "source": [
    "# Newton's method\n",
    "$x_{k+1}=x_k-\\frac{f(x_k)}{f'(x_k)}$\n",
    "\n",
    "note that Newton's method requires you to evaluate f'"
   ]
  },
  {
   "cell_type": "code",
   "execution_count": 9,
   "id": "bb5a0bfd",
   "metadata": {},
   "outputs": [
    {
     "name": "stdout",
     "output_type": "stream",
     "text": [
      "2 2.236111111111111\n",
      "3 2.236067977915804\n"
     ]
    },
    {
     "data": {
      "text/plain": [
       "2.236067977915804"
      ]
     },
     "execution_count": 9,
     "metadata": {},
     "output_type": "execute_result"
    }
   ],
   "source": [
    "def newton_method(x0,n):\n",
    "    f=lambda x: x**2-5\n",
    "    fp=lambda x: 2*x\n",
    "    \n",
    "    x=x0-f(x0)/fp(x0)\n",
    "    for i in range(1,n):\n",
    "        x=x-f(x)/fp(x)\n",
    "        print(i+1,x)\n",
    "    return x\n",
    "\n",
    "newton_method(2,3)"
   ]
  },
  {
   "cell_type": "markdown",
   "id": "b1c926b4",
   "metadata": {},
   "source": [
    "# Secant method\n",
    "the secant method is a variant of Newton's method, where $f'(x_k)$ is replaced by its finite difference approximation based on the evaluated function values at $x_k$ and at the previous iterate $x_{k-1}$\n",
    "1. $f'(x_k) \\approx \\frac{f(x_k)-f(x_{k-1})}{x_k-x_{k-1}} $\n",
    "2. $x_{k+1}=x_k-\\frac{f(x_k)(x_k-x_{k-1})}{f(x_k)-f(x_{k-1})} $"
   ]
  },
  {
   "cell_type": "code",
   "execution_count": 10,
   "id": "6f329e2a",
   "metadata": {},
   "outputs": [
    {
     "data": {
      "text/plain": [
       "-2.0015110973304853"
      ]
     },
     "execution_count": 10,
     "metadata": {},
     "output_type": "execute_result"
    }
   ],
   "source": [
    "def secant_method(x0,x1,n):#secant method require two initial condition x0, x1; n is the number of iterations\n",
    "    \n",
    "    f=lambda x: x**3-3*x+2#the function\n",
    "    \n",
    "    for i in range(n):\n",
    "        fx1=f(x1)\n",
    "        fx0=f(x0)\n",
    "        xtemp=x1\n",
    "        x1=x1-fx1*(x1-x0)/(fx1-fx0)\n",
    "        x0=xtemp\n",
    "    return x1\n",
    "secant_method(-2.6,-2.4,3)"
   ]
  },
  {
   "cell_type": "code",
   "execution_count": null,
   "id": "03d855cd",
   "metadata": {},
   "outputs": [],
   "source": []
  }
 ],
 "metadata": {
  "kernelspec": {
   "display_name": "Python 3 (ipykernel)",
   "language": "python",
   "name": "python3"
  },
  "language_info": {
   "codemirror_mode": {
    "name": "ipython",
    "version": 3
   },
   "file_extension": ".py",
   "mimetype": "text/x-python",
   "name": "python",
   "nbconvert_exporter": "python",
   "pygments_lexer": "ipython3",
   "version": "3.9.12"
  }
 },
 "nbformat": 4,
 "nbformat_minor": 5
}
