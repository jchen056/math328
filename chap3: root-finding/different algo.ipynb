{
 "cells": [
  {
   "cell_type": "code",
   "execution_count": 3,
   "id": "0dc051bb",
   "metadata": {},
   "outputs": [],
   "source": [
    "import math\n",
    "from scipy import optimize\n",
    "import numpy as np\n"
   ]
  },
  {
   "cell_type": "markdown",
   "id": "22716497",
   "metadata": {},
   "source": [
    "1. linearly convergent: if there is a constant p<1 such that $|x_{k+1}-x^*|\\le p|x_k-x^*|$ for all k sufficiently large\n",
    "2. quadratically convergent: if there is a constant M such that $|x_{k+1}-x^*|\\le M(|x_k-x^*|)^2$ for all k sufficiently large\n",
    "3. superlinearly convergent: if there is a seq of constants $p_k$->0 such that $|x_{k+1}-x^*|\\le p_k|x_k-x^*|$"
   ]
  },
  {
   "cell_type": "code",
   "execution_count": 4,
   "id": "39b0f854",
   "metadata": {},
   "outputs": [
    {
     "name": "stdout",
     "output_type": "stream",
     "text": [
      "roots for x**3-30x**2+2552 are: [11.86150151]\n"
     ]
    }
   ],
   "source": [
    "f=lambda x: x**3-30*x*x+2552\n",
    "r=optimize.fsolve(f,x0=6)#we want to solve for f(x)=0\n",
    "print(\"roots for x**3-30x**2+2552 are:\",r)"
   ]
  },
  {
   "cell_type": "code",
   "execution_count": 7,
   "id": "7b85d493",
   "metadata": {},
   "outputs": [
    {
     "name": "stdout",
     "output_type": "stream",
     "text": [
      "n \t a \t b \t error\n",
      "0 \t 0.5 \t 0.6 \t 0.04999999999999999\n",
      "1 \t 0.55 \t 0.6 \t 0.024999999999999967\n",
      "2 \t 0.55 \t 0.575 \t 0.006249999999999978\n",
      "3 \t 0.5625 \t 0.575 \t 0.0015624999999999944\n",
      "4 \t 0.5625 \t 0.56875 \t 0.0003906249999999986\n",
      "5 \t 0.565625 \t 0.56875 \t 9.765624999999792e-05\n",
      "6 \t 0.565625 \t 0.5671875 \t 2.4414062499998612e-05\n",
      "7 \t 0.56640625 \t 0.5671875 \t 6.103515624999653e-06\n",
      "8 \t 0.566796875 \t 0.5671875 \t 1.5258789062499133e-06\n",
      "9 \t 0.5669921874999999 \t 0.5671875 \t 3.8146972656258674e-07\n",
      "10 \t 0.5670898437499999 \t 0.5671875 \t 9.536743164064668e-08\n",
      "11 \t 0.567138671875 \t 0.5671875 \t 2.3841857910134566e-08\n",
      "12 \t 0.567138671875 \t 0.5671630859375 \t 5.9604644775336415e-09\n",
      "13 \t 0.567138671875 \t 0.56715087890625 \t 1.4901161193901866e-09\n",
      "14 \t 0.567138671875 \t 0.567144775390625 \t 3.7252902984754666e-10\n",
      "15 \t 0.5671417236328125 \t 0.567144775390625 \t 9.313225746358073e-11\n",
      "16 \t 0.5671432495117188 \t 0.567144775390625 \t 2.328306436504815e-11\n",
      "17 \t 0.5671432495117188 \t 0.567144012451172 \t 5.820766091685554e-12\n",
      "18 \t 0.5671432495117188 \t 0.5671436309814454 \t 1.4551915229213885e-12\n",
      "19 \t 0.5671432495117188 \t 0.567143440246582 \t 3.63797880624468e-13\n",
      "20 \t 0.5671432495117188 \t 0.5671433448791504 \t 9.0949470156117e-14\n",
      "21 \t 0.5671432495117188 \t 0.5671432971954347 \t 2.273736756549903e-14\n",
      "22 \t 0.5671432733535767 \t 0.5671432971954347 \t 5.6843418913747574e-15\n",
      "23 \t 0.5671432852745057 \t 0.5671432971954347 \t 1.4210854662262445e-15\n",
      "24 \t 0.5671432852745057 \t 0.5671432912349702 \t 3.552713665565611e-16\n",
      "25 \t 0.567143288254738 \t 0.5671432912349702 \t 8.881783998477905e-17\n",
      "26 \t 0.5671432897448541 \t 0.5671432912349702 \t 2.2204460823375376e-17\n",
      "27 \t 0.5671432897448541 \t 0.5671432904899121 \t 5.551114792253538e-18\n",
      "28 \t 0.5671432901173831 \t 0.5671432904899121 \t 1.3877786980633844e-18\n",
      "29 \t 0.5671432903036475 \t 0.5671432904899121 \t 3.4694477791342267e-19\n",
      "30 \t 0.5671432903967798 \t 0.5671432904899121 \t 8.673619447835567e-20\n"
     ]
    },
    {
     "data": {
      "text/plain": [
       "0.567143290443346"
      ]
     },
     "execution_count": 7,
     "metadata": {},
     "output_type": "execute_result"
    }
   ],
   "source": [
    "def bis(a,b,n):\n",
    "    f=lambda x: x+np.log(x)\n",
    "    if f(a)*f(b)>0:\n",
    "        print(\"There may be no sol between a and b\")\n",
    "        return\n",
    "    print(\"n \\t a \\t b \\t error\")\n",
    "    print('0','\\t',a,'\\t',b,'\\t',(b-a)/2)\n",
    "    for i in range(n):\n",
    "        c=(a+b)/2\n",
    "        if f(a)*f(c)<0:\n",
    "            b=c\n",
    "        else:\n",
    "            a=c\n",
    "        print(i+1,'\\t',a,'\\t',b,'\\t',(b-a)/(2**(i+1)))\n",
    "    return (a+b)/2\n",
    "bis(0.5,0.6,30)\n",
    "        "
   ]
  },
  {
   "cell_type": "code",
   "execution_count": 5,
   "id": "ca7f1da9",
   "metadata": {},
   "outputs": [
    {
     "name": "stdout",
     "output_type": "stream",
     "text": [
      "number of iterations: 29\n",
      "root 0.5671432903036475\n"
     ]
    }
   ],
   "source": [
    "#Bisection\n",
    "#a,b define an interval on which you want to find a root\n",
    "#atol is the error(tolerance); |x_(n+1)-x_n|<atol\n",
    "def bisection(a,b,atol):\n",
    "    f=lambda x: x+np.log(x)#function which you want to find roots\n",
    "    if f(a)*f(b)>0:\n",
    "        print(\"there is probably no solution\")\n",
    "        return\n",
    "    \n",
    "    n=math.ceil(math.log2(b-a)-math.log2(2*atol))\n",
    "    print(\"number of iterations:\",n)\n",
    "    for i in range(n):\n",
    "        c=(a+b)/2\n",
    "        if f(a)*f(c)<0:\n",
    "            b=c\n",
    "        else:\n",
    "            a=c\n",
    "    return c\n",
    "\n",
    "print(\"root\",bisection(0.5,0.6,10**(-10)))"
   ]
  },
  {
   "cell_type": "code",
   "execution_count": 4,
   "id": "0425a91e",
   "metadata": {},
   "outputs": [
    {
     "data": {
      "text/plain": [
       "1.0"
      ]
     },
     "execution_count": 4,
     "metadata": {},
     "output_type": "execute_result"
    }
   ],
   "source": [
    "np.log(np.e)"
   ]
  },
  {
   "cell_type": "markdown",
   "id": "c93f4fb5",
   "metadata": {},
   "source": [
    "# FPI\n",
    "1. $|x_k-x^*|=p^k |x_0-x^*|$\n",
    "2. rate=-$log{_{10}}{p}$; it takes ceiling(1/rate) iterations to reduce the error by more than an order of magnitude\n"
   ]
  },
  {
   "cell_type": "code",
   "execution_count": 7,
   "id": "bbcafac6",
   "metadata": {},
   "outputs": [
    {
     "data": {
      "text/plain": [
       "1.6728218837526967"
      ]
     },
     "execution_count": 7,
     "metadata": {},
     "output_type": "execute_result"
    }
   ],
   "source": [
    "# f1=lambda x:(math.e)**x+x-7\n",
    "# print(\"roots found using fsolve:\",optimize.fsolve(f1,x0=2))\n",
    "\n",
    "def FPI(x0,n):#x0 is your initial guess; n is the number of iterations\n",
    "    g=lambda x: -np.log(x)#enter your x=g(x) here\n",
    "    x=g(x0)#FPI for the first time\n",
    "    for i in range(1,n):\n",
    "        x=g(x)\n",
    "    return x\n",
    "        \n",
    "FPI(1,9)   "
   ]
  },
  {
   "cell_type": "markdown",
   "id": "ed3ba4c5",
   "metadata": {},
   "source": [
    "# Newton's method\n",
    "$x_{k+1}=x_k-\\frac{f(x_k)}{f'(x_k)}$\n",
    "\n",
    "note that Newton's method requires you to evaluate f'"
   ]
  },
  {
   "cell_type": "code",
   "execution_count": 9,
   "id": "bb5a0bfd",
   "metadata": {},
   "outputs": [
    {
     "name": "stdout",
     "output_type": "stream",
     "text": [
      "2 2.236111111111111\n",
      "3 2.236067977915804\n"
     ]
    },
    {
     "data": {
      "text/plain": [
       "2.236067977915804"
      ]
     },
     "execution_count": 9,
     "metadata": {},
     "output_type": "execute_result"
    }
   ],
   "source": [
    "def newton_method(x0,n):\n",
    "    f=lambda x: x**2-5\n",
    "    fp=lambda x: 2*x\n",
    "    \n",
    "    x=x0-f(x0)/fp(x0)\n",
    "    for i in range(1,n):\n",
    "        x=x-f(x)/fp(x)\n",
    "        print(i+1,x)\n",
    "    return x\n",
    "\n",
    "newton_method(2,3)"
   ]
  },
  {
   "cell_type": "markdown",
   "id": "b1c926b4",
   "metadata": {},
   "source": [
    "# Secant method\n",
    "the secant method is a variant of Newton's method, where $f'(x_k)$ is replaced by its finite difference approximation based on the evaluated function values at $x_k$ and at the previous iterate $x_{k-1}$\n",
    "1. $f'(x_k) \\approx \\frac{f(x_k)-f(x_{k-1})}{x_k-x_{k-1}} $\n",
    "2. $x_{k+1}=x_k-\\frac{f(x_k)(x_k-x_{k-1})}{f(x_k)-f(x_{k-1})} $"
   ]
  },
  {
   "cell_type": "code",
   "execution_count": 10,
   "id": "6f329e2a",
   "metadata": {},
   "outputs": [
    {
     "name": "stdout",
     "output_type": "stream",
     "text": [
      "0.5684138975263971\n",
      "0.5671202823134709\n",
      "0.5671433068432292\n",
      "0.5671432904099966\n",
      "0.5671432904097838\n",
      "0.5671432904097838\n",
      "nan\n",
      "nan\n",
      "nan\n",
      "nan\n"
     ]
    },
    {
     "name": "stderr",
     "output_type": "stream",
     "text": [
      "/var/folders/c3/wqq2zhw90l596jqv25j63ggc0000gn/T/ipykernel_15420/2584827491.py:9: RuntimeWarning: invalid value encountered in double_scalars\n",
      "  x1=x1-fx1*(x1-x0)/(fx1-fx0)\n"
     ]
    },
    {
     "data": {
      "text/plain": [
       "nan"
      ]
     },
     "execution_count": 10,
     "metadata": {},
     "output_type": "execute_result"
    }
   ],
   "source": [
    "def secant_method(x0,x1,n):#secant method require two initial condition x0, x1; n is the number of iterations\n",
    "    \n",
    "    f=lambda x: x+np.log(x)#the function\n",
    "    \n",
    "    for i in range(n):\n",
    "        fx1=f(x1)\n",
    "        fx0=f(x0)\n",
    "        xtemp=x1\n",
    "        x1=x1-fx1*(x1-x0)/(fx1-fx0)\n",
    "        x0=xtemp\n",
    "        print(x1)\n",
    "    return x1\n",
    "secant_method(0.5,0.6,10)"
   ]
  },
  {
   "cell_type": "code",
   "execution_count": null,
   "id": "03d855cd",
   "metadata": {},
   "outputs": [],
   "source": []
  }
 ],
 "metadata": {
  "kernelspec": {
   "display_name": "Python 3 (ipykernel)",
   "language": "python",
   "name": "python3"
  },
  "language_info": {
   "codemirror_mode": {
    "name": "ipython",
    "version": 3
   },
   "file_extension": ".py",
   "mimetype": "text/x-python",
   "name": "python",
   "nbconvert_exporter": "python",
   "pygments_lexer": "ipython3",
   "version": "3.9.12"
  }
 },
 "nbformat": 4,
 "nbformat_minor": 5
}
