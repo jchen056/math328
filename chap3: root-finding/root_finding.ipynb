{
 "cells": [
  {
   "cell_type": "code",
   "execution_count": 1,
   "metadata": {},
   "outputs": [],
   "source": [
    "import numpy as np\n",
    "import math\n",
    "from scipy import optimize\n",
    "import pandas as pd\n"
   ]
  },
  {
   "cell_type": "markdown",
   "metadata": {},
   "source": [
    "Finding the roots of functions is important in many engineering applications such as signal processing and optimization\n",
    "\n",
    "let us try to find the roots of f(x)=a$x^2$+bx+c: \n",
    "$x_r$=$\\frac{-b\\pm\\sqrt{b^2-4ac}}{2a}$\n",
    "\n",
    "However,for more complicated functions, the roots can rarely be computed using such explicit, or exact, means."
   ]
  },
  {
   "cell_type": "code",
   "execution_count": 2,
   "metadata": {},
   "outputs": [
    {
     "name": "stdout",
     "output_type": "stream",
     "text": [
      "roots are 3.0 -3.0\n"
     ]
    }
   ],
   "source": [
    "def finding_square_root(a,b,c):\n",
    "    dta=b*b-4*a*c\n",
    "    if dta<0:\n",
    "        print(\"no solution\")\n",
    "        return\n",
    "    elif dta==0:\n",
    "        print(\"idential root(s):\",-b/(2*a))\n",
    "    else:\n",
    "        print(\"roots are\",(-b+math.sqrt(b*b-4*a*c))/(2*a),(-b-math.sqrt(b*b-4*a*c))/(2*a))\n",
    "\n",
    "finding_square_root(1,0,-9)"
   ]
  },
  {
   "cell_type": "code",
   "execution_count": 2,
   "metadata": {},
   "outputs": [
    {
     "data": {
      "text/plain": [
       "28.897352853986263"
      ]
     },
     "execution_count": 2,
     "metadata": {},
     "output_type": "execute_result"
    }
   ],
   "source": [
    "np.log2(0.1)-np.log2(2*10**(-10))"
   ]
  },
  {
   "cell_type": "markdown",
   "metadata": {},
   "source": [
    "# bisection method\n",
    "f(x)=0: find the roots\n",
    "efficient--requires small number of function evaluations\n",
    "robust--fails rarely\n",
    "requires minimal smoothness of f\n",
    "\n",
    "Tolerance is the level of error that is acceptable for an engineering application. We say that a computer program has converged to a solution when it has found a solution with an error smaller than the tolerance. When computing roots numerically, or conducting any other kind of numerical analysis, it is important to establish both a metric for error and a tolerance that is suitable for a given engineering/science application.\n",
    "\n",
    "The Intermediate Value Theorem says that if 𝑓(𝑥) is a continuous function between 𝑎 and 𝑏, and sign(𝑓(𝑎))≠sign(𝑓(𝑏)), then there must be a 𝑐, such that 𝑎<𝑐<𝑏 and 𝑓(𝑐)=0.\n",
    "\n",
    "1. evaluate f(p), where p=$\\frac{a+b}{2}$\n",
    "2. check the sign of f(a)*f(p): positive, negative, zero\n",
    "3. in each iteration, the interval x* is trapped is shrinked by a factor of 2. After a total of n iterations, $|x*-x_n|<=\\frac{b-a}{2}*2^{-n}$\n",
    "\n",
    "there are several ways that you can stop the program\n",
    "1. |$x_n$-$x_{n-1}$|<atol and/or \n",
    "2. rel error $|x_n-x_{n-1}|<rtol|x_n|$and/or\n",
    "3. f($x_n$)<ftol; the function itself is close enough to 0\n",
    "\n",
    "problem statement: evaluate f(x)=cosx-x near -2"
   ]
  },
  {
   "cell_type": "code",
   "execution_count": 3,
   "metadata": {},
   "outputs": [
    {
     "name": "stdout",
     "output_type": "stream",
     "text": [
      "roots of cos-x+2 are [0.73908513]\n",
      "results= [0.]\n"
     ]
    }
   ],
   "source": [
    "f=lambda x: math.cos(x)-x\n",
    "r=optimize.fsolve(f,-2)\n",
    "print(\"roots of cos-x+2 are\",r)\n",
    "\n",
    "#let us verify the results\n",
    "result=f(r)\n",
    "print(\"results=\",result)"
   ]
  },
  {
   "cell_type": "code",
   "execution_count": 34,
   "metadata": {},
   "outputs": [],
   "source": [
    "def bisec(a,b,tol):\n",
    "    A=a\n",
    "    B=b\n",
    "    #f is continuous function\n",
    "    f=lambda x: x**3+x-1#given the function for which you want ot find the root; x**4-2*x**3-4*x*x+4*x+4\n",
    "    \n",
    "    #does f(a)*f(b)<0?\n",
    "    if f(a)*f(b)>0:\n",
    "        print(\"f(a)*(b)>0; there may be no sol\")\n",
    "        return\n",
    "    \n",
    "    av_s=np.array(a)\n",
    "    bv_s=np.array(b)\n",
    "    p=(a+b)/2\n",
    "    pv_s=np.array(p)\n",
    "    \n",
    "    while (np.abs(f(p))>=tol):\n",
    "        if np.sign(f(a))==np.sign(f(p)):#p is an improvement on a\n",
    "            a=p\n",
    "            av_s=np.append(av_s, a)\n",
    "            bv_s=np.append(bv_s,b)\n",
    "            p=(a+b)/2\n",
    "            pv_s=np.append(pv_s,p)\n",
    "        elif np.sign(f(b))==np.sign(f(p)):#p is an improvmeent on b\n",
    "            b=p\n",
    "            av_s=np.append(av_s, a)\n",
    "            bv_s=np.append(bv_s,b)\n",
    "            p=(a+b)/2\n",
    "            pv_s=np.append(pv_s,p)\n",
    "#     df=pd.DataFrame(np.zeros((len(av_s),5)),columns=['a','b','p(mid)','f(a)f(p)','error'])\n",
    "#     df['a']=av_s\n",
    "#     df['b']=bv_s\n",
    "#     df['p(mid)']=pv_s\n",
    "#     df['f(a)f(p)']=df['a']*df['p(mid)']\n",
    "#     df['error']=[ (B-A)/(2**(i+1)) for i in range(len(av_s))]\n",
    "#     print(df)\n",
    "    return p\n",
    "       \n"
   ]
  },
  {
   "cell_type": "code",
   "execution_count": 35,
   "metadata": {},
   "outputs": [
    {
     "name": "stdout",
     "output_type": "stream",
     "text": [
      "0.6796875\n"
     ]
    }
   ],
   "source": [
    "print(bisec(-1,3,0.01))"
   ]
  },
  {
   "cell_type": "code",
   "execution_count": 31,
   "metadata": {},
   "outputs": [
    {
     "name": "stdout",
     "output_type": "stream",
     "text": [
      "0 1.0707963267948966\n",
      "1 0.03539816339744828\n"
     ]
    }
   ],
   "source": [
    "a,b=-1,math.pi\n",
    "x=0.5*(a+b)\n",
    "\n",
    "def f(x):\n",
    "    return x**7\n",
    "\n",
    "etol=0.5*10**(-9)\n",
    "k=0\n",
    "while abs(f(x))>etol:\n",
    "    x=0.5*(a+b)\n",
    "    print(k,x)\n",
    "    if f(x)*f(a)<0:\n",
    "        b=x\n",
    "    else:\n",
    "        a=x\n",
    "    k+=1"
   ]
  },
  {
   "cell_type": "markdown",
   "metadata": {},
   "source": [
    "# fixed-point iteration\n",
    "FPI cut the error not by half each time(much better)\n",
    "you have an arbitrary starting point\n",
    "how to compute the error for FPI\n",
    "\n",
    "given a scalar continuous function in one variable, f(x), select a function g(x) such that x satisfies f(x)=0 if and only if g(x)=x. Then:\n",
    "1. start from an initial guess $x_0$\n",
    "2. for k=0,1,2,..., set $x_{k+1}=g(x_k)$ until $x_{k+1}$ satisfies termination criteria"
   ]
  },
  {
   "cell_type": "code",
   "execution_count": 10,
   "metadata": {},
   "outputs": [
    {
     "name": "stdout",
     "output_type": "stream",
     "text": [
      "1 1.0\n",
      "2 0.5403023058681398\n",
      "3 0.8575532158463934\n",
      "4 0.6542897904977791\n",
      "5 0.7934803587425656\n",
      "6 0.7013687736227565\n",
      "7 0.7639596829006542\n",
      "8 0.7221024250267079\n",
      "9 0.7504177617637604\n",
      "10 0.7314040424225099\n",
      "11 0.7442373549005569\n",
      "12 0.7356047404363473\n",
      "13 0.7414250866101093\n",
      "14 0.7375068905132427\n",
      "15 0.7401473355678758\n",
      "16 0.7383692041223231\n",
      "17 0.7395672022122561\n",
      "18 0.7387603198742112\n",
      "19 0.739303892396906\n",
      "20 0.7389377567153443\n",
      "21 0.7391843997714937\n",
      "22 0.7390182624274122\n",
      "23 0.7391301765296711\n",
      "24 0.7390547907469174\n",
      "25 0.7391055719265363\n",
      "26 0.7390713652989449\n",
      "27 0.7390944073790913\n",
      "28 0.739078885994992\n",
      "29 0.7390893414033928\n",
      "30 0.7390822985224023\n",
      "31 0.7390870426953322\n"
     ]
    }
   ],
   "source": [
    "x=0#initial guess\n",
    "def g(x):\n",
    "    return math.cos(x)\n",
    "\n",
    "for k in range(31): #any number of iterations you want\n",
    "    x=g(x)\n",
    "    print(k+1,x)"
   ]
  },
  {
   "cell_type": "code",
   "execution_count": null,
   "metadata": {},
   "outputs": [],
   "source": []
  }
 ],
 "metadata": {
  "kernelspec": {
   "display_name": "Python 3 (ipykernel)",
   "language": "python",
   "name": "python3"
  },
  "language_info": {
   "codemirror_mode": {
    "name": "ipython",
    "version": 3
   },
   "file_extension": ".py",
   "mimetype": "text/x-python",
   "name": "python",
   "nbconvert_exporter": "python",
   "pygments_lexer": "ipython3",
   "version": "3.9.12"
  }
 },
 "nbformat": 4,
 "nbformat_minor": 4
}
