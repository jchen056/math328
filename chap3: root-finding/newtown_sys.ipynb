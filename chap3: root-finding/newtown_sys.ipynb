{
 "cells": [
  {
   "cell_type": "code",
   "execution_count": 1,
   "id": "fe4b911e",
   "metadata": {},
   "outputs": [],
   "source": [
    "import numpy as np\n",
    "import math"
   ]
  },
  {
   "cell_type": "markdown",
   "id": "db035dac",
   "metadata": {},
   "source": [
    "## Newton's Method for nonlinear systems\n",
    "* $x_0$ is the initial guess, $x_0$ is a vector\n",
    "* $x_{k+1}=x_k-J(x_k)^{-1}F(x_k)$\n",
    "\n",
    "example\n",
    "1. $f_1(x_1,x_2)={x_1}^2-2x_1-x_2+1=0$\n",
    "2. $f_2(x_1,x_2)={x_1}^2+{x_2}^2-1=0$\n",
    "simultaneous solve $f_1(x_1,x_2)=0$ and $f_2(x_1,x_2)=0$\n"
   ]
  },
  {
   "cell_type": "code",
   "execution_count": 6,
   "id": "7aa708c5",
   "metadata": {},
   "outputs": [
    {
     "name": "stdout",
     "output_type": "stream",
     "text": [
      "1 [ 1.25 -1.  ]\n",
      "2 [ 0.61818182 -1.00852273]\n",
      "3 [-1.34402298 -2.01332497]\n",
      "4 [-1.07763436 -0.98422872]\n",
      "5 [-0.89390063 -0.61134464]\n",
      "6 [-0.83060976 -0.56255946]\n",
      "7 [-0.8260516  -0.56361392]\n",
      "8 [-0.82603136 -0.56362416]\n",
      "9 [-0.82603136 -0.56362416]\n",
      "10 [-0.82603136 -0.56362416]\n",
      "11 [-0.82603136 -0.56362416]\n",
      "12 [-0.82603136 -0.56362416]\n",
      "13 [-0.82603136 -0.56362416]\n",
      "14 [-0.82603136 -0.56362416]\n"
     ]
    }
   ],
   "source": [
    "#F is our function\n",
    "#DF is our jacobian\n",
    "#x is a vector\n",
    "def F(x):\n",
    "#     y1=x[0]**2-2*x[0]-x[1]+1\n",
    "#     y2=x[0]**2+x[1]**2-1\n",
    "    y1=x[0]**2+x[1]**2-1\n",
    "    y2=x[1]-x[0]**3\n",
    "    return np.array([y1,y2])\n",
    "\n",
    "def DF(x):\n",
    "    return np.array([[2*x[0], 2*x[1]],[-3*x[0]**2,1]])\n",
    "\n",
    "def newton_method(F,DF,x,n):\n",
    "\n",
    "    for i in range(n):\n",
    "        x=x-np.linalg.solve(DF(x),F(x))\n",
    "        print(i+1,x)\n",
    "newton_method(F,DF,[2,0],14)"
   ]
  },
  {
   "cell_type": "code",
   "execution_count": null,
   "id": "07567ca6",
   "metadata": {},
   "outputs": [],
   "source": []
  }
 ],
 "metadata": {
  "kernelspec": {
   "display_name": "Python 3 (ipykernel)",
   "language": "python",
   "name": "python3"
  },
  "language_info": {
   "codemirror_mode": {
    "name": "ipython",
    "version": 3
   },
   "file_extension": ".py",
   "mimetype": "text/x-python",
   "name": "python",
   "nbconvert_exporter": "python",
   "pygments_lexer": "ipython3",
   "version": "3.9.12"
  }
 },
 "nbformat": 4,
 "nbformat_minor": 5
}
