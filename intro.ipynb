{
 "cells": [
  {
   "cell_type": "markdown",
   "metadata": {},
   "source": [
    "# Numerical Algorithms\n",
    "\n",
    "Scientific computing: the development and study of numerical algorithms for solving mathematical problems that arise in various science and engineering disciplines"
   ]
  },
  {
   "cell_type": "code",
   "execution_count": 13,
   "metadata": {},
   "outputs": [
    {
     "data": {
      "text/plain": [
       "5200300"
      ]
     },
     "execution_count": 13,
     "metadata": {},
     "output_type": "execute_result"
    }
   ],
   "source": [
    "def binomial(n,k):\n",
    "    if k==0:\n",
    "        return 1\n",
    "    else:\n",
    "        bottom_part=1\n",
    "        top_part=1\n",
    "        for i in range(2,k+1):\n",
    "            bottom_part*=i\n",
    "        for j in range(n-k+1,n+1):\n",
    "            top_part*=j\n",
    "        return int(top_part/bottom_part)\n",
    "binomial(25,13)"
   ]
  },
  {
   "cell_type": "code",
   "execution_count": 14,
   "metadata": {},
   "outputs": [
    {
     "name": "stdout",
     "output_type": "stream",
     "text": [
      "1 1 \n",
      "1 2 1 \n",
      "1 3 3 1 \n",
      "1 4 6 4 1 \n",
      "1 5 10 10 5 1 \n",
      "1 6 15 20 15 6 1 \n",
      "1 7 21 35 35 21 7 1 \n",
      "1 8 28 56 70 56 28 8 1 \n",
      "1 9 36 84 126 126 84 36 9 1 \n",
      "1 10 45 120 210 252 210 120 45 10 1 \n",
      "1 11 55 165 330 462 462 330 165 55 11 1 \n",
      "1 12 66 220 495 792 924 792 495 220 66 12 1 \n",
      "1 13 78 286 715 1287 1716 1716 1287 715 286 78 13 1 \n",
      "1 14 91 364 1001 2002 3003 3432 3003 2002 1001 364 91 14 1 \n",
      "1 15 105 455 1365 3003 5005 6435 6435 5005 3003 1365 455 105 15 1 \n",
      "1 16 120 560 1820 4368 8008 11440 12870 11440 8008 4368 1820 560 120 16 1 \n",
      "1 17 136 680 2380 6188 12376 19448 24310 24310 19448 12376 6188 2380 680 136 17 1 \n",
      "1 18 153 816 3060 8568 18564 31824 43758 48620 43758 31824 18564 8568 3060 816 153 18 1 \n",
      "1 19 171 969 3876 11628 27132 50388 75582 92378 92378 75582 50388 27132 11628 3876 969 171 19 1 \n",
      "1 20 190 1140 4845 15504 38760 77520 125970 167960 184756 167960 125970 77520 38760 15504 4845 1140 190 20 1 \n"
     ]
    }
   ],
   "source": [
    "def pascal_triangle(n):#n is the number of lines\n",
    "    for i in range(1,n+1):#first, second,...,nth line\n",
    "        for j in range(i+1):#starting at 0, up to i\n",
    "            print(binomial(i,j),end=\" \")\n",
    "        print()\n",
    "\n",
    "pascal_triangle(20)"
   ]
  },
  {
   "cell_type": "code",
   "execution_count": 19,
   "metadata": {},
   "outputs": [
    {
     "name": "stdout",
     "output_type": "stream",
     "text": [
      "probability(60Hs out of 100 tosses) 0.010843866711637987\n",
      "probability(60Hs and more): 0.028443966820490392\n"
     ]
    }
   ],
   "source": [
    "#toss a unbiased coin 100 times \n",
    "#probablity of having exactly 60 heads\n",
    "print(\"probability(60Hs out of 100 tosses)\",binomial(100,60)/(2**100))\n",
    "head60_more=0\n",
    "for i in range(60,101):\n",
    "    head60_more+=binomial(100,i)/(2**100)\n",
    "print(\"probability(60Hs and more):\",head60_more)"
   ]
  },
  {
   "cell_type": "code",
   "execution_count": null,
   "metadata": {},
   "outputs": [],
   "source": []
  }
 ],
 "metadata": {
  "kernelspec": {
   "display_name": "Python 3",
   "language": "python",
   "name": "python3"
  },
  "language_info": {
   "codemirror_mode": {
    "name": "ipython",
    "version": 3
   },
   "file_extension": ".py",
   "mimetype": "text/x-python",
   "name": "python",
   "nbconvert_exporter": "python",
   "pygments_lexer": "ipython3",
   "version": "3.8.5"
  }
 },
 "nbformat": 4,
 "nbformat_minor": 4
}
