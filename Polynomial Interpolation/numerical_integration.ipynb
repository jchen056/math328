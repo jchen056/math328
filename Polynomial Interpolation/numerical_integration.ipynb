{
 "cells": [
  {
   "cell_type": "code",
   "execution_count": 1,
   "id": "08709f2b",
   "metadata": {},
   "outputs": [],
   "source": [
    "import numpy as np\n",
    "import pandas as pd\n",
    "import matplotlib.pyplot as plt\n",
    "import math\n",
    "import scipy.integrate as integrate"
   ]
  },
  {
   "cell_type": "code",
   "execution_count": 2,
   "id": "3d547292",
   "metadata": {},
   "outputs": [
    {
     "name": "stderr",
     "output_type": "stream",
     "text": [
      "/var/folders/c3/wqq2zhw90l596jqv25j63ggc0000gn/T/ipykernel_54167/1739665678.py:15: DeprecationWarning: Calling np.sum(generator) is deprecated, and in the future will give a different result. Use np.sum(np.fromiter(generator)) or the python sum builtin instead.\n",
      "  midpoint=h*(np.sum(f_circle(i) for i in x_midpoints))\n"
     ]
    },
    {
     "data": {
      "text/plain": [
       "(1.9835235375094544, 1.9835235375094544, 2.0082484079079745)"
      ]
     },
     "execution_count": 2,
     "metadata": {},
     "output_type": "execute_result"
    }
   ],
   "source": [
    "#compute the area under the curve f(x) on [a,b] using numerical integration\n",
    "def f_circle(x):\n",
    "  return np.sin(x)\n",
    "\n",
    "#[a,b] is your interval; n is the number of strips\n",
    "\n",
    "def Riemann_sum(f_circle,a,b,n):\n",
    "  h=(b-a)/n #stepsize\n",
    "  x_values=np.arange(start=a,stop=b+h,step=h)\n",
    "  y_values=[f_circle(i) for i in x_values]\n",
    "  left=h*np.sum(y_values[0:-1])\n",
    "  right=h*np.sum(y_values[1:])\n",
    "\n",
    "  x_midpoints=(x_values[0:-1]+x_values[1:])/2\n",
    "  midpoint=h*(np.sum(f_circle(i) for i in x_midpoints))\n",
    "                     \n",
    "  return left, right, midpoint\n",
    "\n",
    "Riemann_sum(f_circle,0,np.pi,10)"
   ]
  },
  {
   "cell_type": "markdown",
   "id": "94a799c5",
   "metadata": {},
   "source": [
    "### codes for Midpoint, trapezoidal, and simpsons\n",
    "\n",
    "* [link] https://www.symbolab.com/solver/riemann-sum-calculator (limit: 20 iterations, slow)\n",
    "* [link]https://planetcalc.com/5494/\n",
    "* "
   ]
  },
  {
   "cell_type": "code",
   "execution_count": 3,
   "id": "d43dec2b",
   "metadata": {},
   "outputs": [],
   "source": [
    "def func(x):\n",
    "    return 2*x**3\n",
    "\n",
    "def composite_rieman(a,b,n):\n",
    "    h=(b-a)/n\n",
    "    x=np.arange(start=a,stop=b+h,step=h)\n",
    "    #midpoint formula: approx \n",
    "    midpoints=(np.array([i for i in x[0:-1]])+np.array([i for i in x[1:]]))/2\n",
    "    midpoint_est=np.sum([func(i) for i in midpoints])*h\n",
    "    \n",
    "    #trapezoidal formula: 1 2 2 ... 2 2 1\n",
    "    trapezoidal_sum=( np.sum([func(i) for i in x[0:-1]])+\n",
    "                             np.sum([func(i) for i in x[1:]])\n",
    "                             )*h/2\n",
    "    \n",
    "    #simpson formula: 1 4 2 4 2...1\n",
    "    simpson_xs=np.ones(n+1)\n",
    "    for i in range(1,n):\n",
    "        if i%2==0:\n",
    "            simpson_xs[i]=2\n",
    "        else:\n",
    "            simpson_xs[i]=4\n",
    "#     print(simpson_xs)\n",
    "    simpson_sum=np.dot(simpson_xs,np.array([func(i) for i in x]))*h/3\n",
    "    \n",
    "    #exact answer\n",
    "    exact_int=integrate.quad(func,a=a,b=b)[0]\n",
    "    return midpoint_est,trapezoidal_sum,simpson_sum,exact_int"
   ]
  },
  {
   "cell_type": "code",
   "execution_count": 5,
   "id": "cb3ff850",
   "metadata": {},
   "outputs": [
    {
     "data": {
      "text/plain": [
       "(7.999375000000002, 8.001250000000002, 8.000000000000002, 8.0)"
      ]
     },
     "execution_count": 5,
     "metadata": {},
     "output_type": "execute_result"
    }
   ],
   "source": [
    "composite_rieman(0,2,80)"
   ]
  },
  {
   "cell_type": "code",
   "execution_count": 27,
   "id": "291786ad",
   "metadata": {},
   "outputs": [
    {
     "data": {
      "text/plain": [
       "11"
      ]
     },
     "execution_count": 27,
     "metadata": {},
     "output_type": "execute_result"
    }
   ],
   "source": []
  },
  {
   "cell_type": "code",
   "execution_count": null,
   "id": "70e9be5b",
   "metadata": {},
   "outputs": [],
   "source": []
  }
 ],
 "metadata": {
  "kernelspec": {
   "display_name": "Python 3 (ipykernel)",
   "language": "python",
   "name": "python3"
  },
  "language_info": {
   "codemirror_mode": {
    "name": "ipython",
    "version": 3
   },
   "file_extension": ".py",
   "mimetype": "text/x-python",
   "name": "python",
   "nbconvert_exporter": "python",
   "pygments_lexer": "ipython3",
   "version": "3.9.12"
  }
 },
 "nbformat": 4,
 "nbformat_minor": 5
}
